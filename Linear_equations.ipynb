{
  "nbformat": 4,
  "nbformat_minor": 0,
  "metadata": {
    "colab": {
      "name": "Linear_equations.ipynb",
      "provenance": [],
      "collapsed_sections": [],
      "authorship_tag": "ABX9TyOxJpTw2Or1CaF9Z2XVjtcS",
      "include_colab_link": true
    },
    "kernelspec": {
      "name": "python3",
      "display_name": "Python 3"
    },
    "language_info": {
      "name": "python"
    }
  },
  "cells": [
    {
      "cell_type": "markdown",
      "metadata": {
        "id": "view-in-github",
        "colab_type": "text"
      },
      "source": [
        "<a href=\"https://colab.research.google.com/github/alina-bogdanovskaya/Linear_Algebra_Feb2022/blob/lesson4/Linear_equations.ipynb\" target=\"_parent\"><img src=\"https://colab.research.google.com/assets/colab-badge.svg\" alt=\"Open In Colab\"/></a>"
      ]
    },
    {
      "cell_type": "code",
      "execution_count": 1,
      "metadata": {
        "id": "BhAtJO6HHRL0"
      },
      "outputs": [],
      "source": [
        "import numpy as np\n",
        "from scipy import linalg"
      ]
    },
    {
      "cell_type": "markdown",
      "source": [
        "##__1.__ Решить систему уравнений методом Гаусса:\n",
        "\n",
        "$$\\begin{cases}\n",
        "x_{1}+x_{2}-x_{3}-2x_{4}=0, \\\\\n",
        "2x_{1}+x_{2}-x_{3}+x_{4}=-2, \\\\\n",
        "x_{1}+x_{2}-3x_{3}+x_{4}=4.\n",
        "\\end{cases}$$"
      ],
      "metadata": {
        "id": "Zp6vnl70HoGb"
      }
    },
    {
      "cell_type": "markdown",
      "source": [
        "$\\begin{pmatrix}\n",
        "\\left.\\begin{matrix}\n",
        "1 & 1 & -1 & -2 \\\\ \n",
        "2 & 1 & -1 & 1 \\\\ \n",
        "1 & 1 & -3 & 1\n",
        "\\end{matrix}\\right|\n",
        "\\begin{matrix}\n",
        "0\\\\ \n",
        "-2\\\\\n",
        "4\n",
        "\\end{matrix}\n",
        "\\end{pmatrix}$\n",
        "\n",
        "$\\begin{pmatrix}\n",
        "\\left.\\begin{matrix}\n",
        "1 & 1 & -1 & -2 \\\\ \n",
        "0 & -1 & 1 & 5 \\\\ \n",
        "0 & 0 & -2 & 3\n",
        "\\end{matrix}\\right|\n",
        "\\begin{matrix}\n",
        "0\\\\ \n",
        "-2\\\\\n",
        "4\n",
        "\\end{matrix}\n",
        "\\end{pmatrix}$\n",
        "\n",
        "$x_{4} = c\\\\\n",
        "-2x_{3} + 3c = 4\\\\\n",
        "x_{3} = \\frac{3c}{2} - 2\\\\\n",
        "-x_{2} + \\frac{3c}{2} - 2 + 5c = -2\\\\\n",
        "x_{2} = \\frac{13}{2}c\\\\\n",
        "x_{1} + \\frac{13}{2}c - \\frac{3c}{2} + 2 - 2c\\\\\n",
        "x_{1} = -3c - 2\n",
        "$"
      ],
      "metadata": {
        "id": "RYWIjXwEJJjo"
      }
    },
    {
      "cell_type": "markdown",
      "metadata": {
        "id": "cTVfl123ZS5O"
      },
      "source": [
        "##__2.__ Проверить на совместность и выяснить, сколько решений будет иметь система линейных уравнений:\n",
        "\n",
        "   а) $\\begin{cases}\n",
        "3x_{1}-x_{2}+x_{3}=4, \\\\\n",
        "2x_{1}-5x_{2}-3x_{3}=-17, \\\\\n",
        "x_{1}+x_{2}-x_{3}=0;\n",
        "\\end{cases}$\n",
        "    \n",
        "   б) $\\begin{cases}\n",
        "2x_{1}-4x_{2}+6x_{3}=1, \\\\\n",
        "x_{1}-2x_{2}+3x_{3}=-2, \\\\\n",
        "3x_{1}-6x_{2}+9x_{3}=5;\n",
        "\\end{cases}$\n",
        "    \n",
        "   в) $\\begin{cases}\n",
        "x_{1}+2x_{2}+5x_{3}=4, \\\\\n",
        "3x_{1}+x_{2}-8x_{3}=-2. \n",
        "\\end{cases}$"
      ]
    },
    {
      "cell_type": "code",
      "source": [
        "a = np.array([[3, -1, 1], [2, -5, -3], [1, 1, -1]])\n",
        "b = np.array([[4, -17, 0]])\n",
        "c = np.concatenate((a, b.T), axis=1)\n",
        "c\n"
      ],
      "metadata": {
        "id": "sbNSOkY-7DFG",
        "colab": {
          "base_uri": "https://localhost:8080/"
        },
        "outputId": "50846034-4362-4179-aa50-7fcbba805209"
      },
      "execution_count": 2,
      "outputs": [
        {
          "output_type": "execute_result",
          "data": {
            "text/plain": [
              "array([[  3,  -1,   1,   4],\n",
              "       [  2,  -5,  -3, -17],\n",
              "       [  1,   1,  -1,   0]])"
            ]
          },
          "metadata": {},
          "execution_count": 2
        }
      ]
    },
    {
      "cell_type": "code",
      "source": [
        "rank_a = np.linalg.matrix_rank(a)\n",
        "rank_c = np.linalg.matrix_rank(c)\n",
        "print(rank_a, rank_c)"
      ],
      "metadata": {
        "colab": {
          "base_uri": "https://localhost:8080/"
        },
        "id": "2d7b_kVSwj_l",
        "outputId": "0484b7ee-6e75-4900-ff6d-a49a032ba99a"
      },
      "execution_count": 3,
      "outputs": [
        {
          "output_type": "stream",
          "name": "stdout",
          "text": [
            "3 3\n"
          ]
        }
      ]
    },
    {
      "cell_type": "code",
      "source": [
        "np.linalg.solve(a,b.T)"
      ],
      "metadata": {
        "colab": {
          "base_uri": "https://localhost:8080/"
        },
        "id": "sPftjJZByOng",
        "outputId": "4e84d78f-9fb8-4a46-c9ea-5504418bc948"
      },
      "execution_count": 4,
      "outputs": [
        {
          "output_type": "execute_result",
          "data": {
            "text/plain": [
              "array([[1.],\n",
              "       [2.],\n",
              "       [3.]])"
            ]
          },
          "metadata": {},
          "execution_count": 4
        }
      ]
    },
    {
      "cell_type": "markdown",
      "source": [
        "a) Система совместна и имеет единственное решение."
      ],
      "metadata": {
        "id": "02Xr6xO1xgfg"
      }
    },
    {
      "cell_type": "code",
      "source": [
        "a = np.array([[2, -4, 6], [1, -2, 3], [3, -6, 9]])\n",
        "b = np.array([[1, -2, 5]])\n",
        "c = np.concatenate((a, b.T), axis=1)\n",
        "c\n"
      ],
      "metadata": {
        "colab": {
          "base_uri": "https://localhost:8080/"
        },
        "outputId": "83b24679-1f38-463a-e535-bc347e26e76c",
        "id": "rTe5xLDZx0XT"
      },
      "execution_count": 5,
      "outputs": [
        {
          "output_type": "execute_result",
          "data": {
            "text/plain": [
              "array([[ 2, -4,  6,  1],\n",
              "       [ 1, -2,  3, -2],\n",
              "       [ 3, -6,  9,  5]])"
            ]
          },
          "metadata": {},
          "execution_count": 5
        }
      ]
    },
    {
      "cell_type": "code",
      "source": [
        "rank_a = np.linalg.matrix_rank(a)\n",
        "rank_c = np.linalg.matrix_rank(c)\n",
        "print(rank_a, rank_c)"
      ],
      "metadata": {
        "colab": {
          "base_uri": "https://localhost:8080/"
        },
        "outputId": "ddd7c3e5-4438-4b01-a898-23f20a8a96f6",
        "id": "YhyJlnS_6PY5"
      },
      "execution_count": 6,
      "outputs": [
        {
          "output_type": "stream",
          "name": "stdout",
          "text": [
            "1 2\n"
          ]
        }
      ]
    },
    {
      "cell_type": "markdown",
      "source": [
        "б) Система несовместна."
      ],
      "metadata": {
        "id": "gQSR63GO612o"
      }
    },
    {
      "cell_type": "code",
      "source": [
        "a = np.array([[1, 2, 5], [3, 1, -8]])\n",
        "b = np.array([[4, -2]])\n",
        "c = np.concatenate((a, b.T), axis=1)\n",
        "c\n"
      ],
      "metadata": {
        "colab": {
          "base_uri": "https://localhost:8080/"
        },
        "id": "TN-ZZj9ytdB9",
        "outputId": "8396e8e7-1091-4073-dac6-7b6cfb50de8b"
      },
      "execution_count": 7,
      "outputs": [
        {
          "output_type": "execute_result",
          "data": {
            "text/plain": [
              "array([[ 1,  2,  5,  4],\n",
              "       [ 3,  1, -8, -2]])"
            ]
          },
          "metadata": {},
          "execution_count": 7
        }
      ]
    },
    {
      "cell_type": "code",
      "source": [
        "rank_a = np.linalg.matrix_rank(a)\n",
        "rank_c = np.linalg.matrix_rank(c)\n",
        "print(rank_a, rank_c)"
      ],
      "metadata": {
        "colab": {
          "base_uri": "https://localhost:8080/"
        },
        "outputId": "8b38d906-db23-42fa-f73f-c338d7796799",
        "id": "PNdNsq5K7UEh"
      },
      "execution_count": 8,
      "outputs": [
        {
          "output_type": "stream",
          "name": "stdout",
          "text": [
            "2 2\n"
          ]
        }
      ]
    },
    {
      "cell_type": "markdown",
      "source": [
        "в) Система совместна и имеет бесконечное количество решений."
      ],
      "metadata": {
        "id": "QhU0UOUN7a2I"
      }
    },
    {
      "cell_type": "markdown",
      "source": [
        "##__3.__ Проверить на совместность и выяснить, сколько решений будет иметь система линейных уравнений, заданная расширенной матрицей\n",
        "\n",
        "$$\\tilde{A}=\\begin{pmatrix}\n",
        "\\left.\\begin{matrix}\n",
        "1 & 3 & -2 & 4\\\\ \n",
        "0 & 5 & 0 & 1\\\\ \n",
        "0 & 0 & 3 & 0\\\\ \n",
        "0 & 0 & 0 & 2\n",
        "\\end{matrix}\\right|\n",
        "\\begin{matrix}\n",
        "3\\\\ \n",
        "2\\\\\n",
        "4\\\\\n",
        "1\n",
        "\\end{matrix}\n",
        "\\end{pmatrix}.$$"
      ],
      "metadata": {
        "id": "s6YN-zh8H1ZP"
      }
    },
    {
      "cell_type": "code",
      "source": [
        "a = np.array([[1, 3, -2, 4], [0, 5, 0, 1], [0, 0, 3, 0], [0, 0, 0, 2]])\n",
        "b = np.array([[3, 2, 4, 1]])\n",
        "c = np.concatenate((a, b.T), axis=1)\n",
        "c\n"
      ],
      "metadata": {
        "colab": {
          "base_uri": "https://localhost:8080/"
        },
        "outputId": "7ac94955-7fdb-47e6-f26f-0a969ad5f1d0",
        "id": "--UZcOX673xX"
      },
      "execution_count": 9,
      "outputs": [
        {
          "output_type": "execute_result",
          "data": {
            "text/plain": [
              "array([[ 1,  3, -2,  4,  3],\n",
              "       [ 0,  5,  0,  1,  2],\n",
              "       [ 0,  0,  3,  0,  4],\n",
              "       [ 0,  0,  0,  2,  1]])"
            ]
          },
          "metadata": {},
          "execution_count": 9
        }
      ]
    },
    {
      "cell_type": "code",
      "source": [
        "rank_a = np.linalg.matrix_rank(a)\n",
        "rank_c = np.linalg.matrix_rank(c)\n",
        "print(rank_a, rank_c)"
      ],
      "metadata": {
        "colab": {
          "base_uri": "https://localhost:8080/"
        },
        "outputId": "4217ae74-6de9-405f-e972-de6577296146",
        "id": "wJyFsb-f8e1L"
      },
      "execution_count": 10,
      "outputs": [
        {
          "output_type": "stream",
          "name": "stdout",
          "text": [
            "4 4\n"
          ]
        }
      ]
    },
    {
      "cell_type": "code",
      "source": [
        "np.linalg.solve(a,b.T)"
      ],
      "metadata": {
        "colab": {
          "base_uri": "https://localhost:8080/"
        },
        "outputId": "eec23d62-8626-4c96-f036-30ededa1c7d1",
        "id": "hM-D6jAf8oA8"
      },
      "execution_count": 11,
      "outputs": [
        {
          "output_type": "execute_result",
          "data": {
            "text/plain": [
              "array([[2.76666667],\n",
              "       [0.3       ],\n",
              "       [1.33333333],\n",
              "       [0.5       ]])"
            ]
          },
          "metadata": {},
          "execution_count": 11
        }
      ]
    },
    {
      "cell_type": "markdown",
      "source": [
        "Система совместна и имеет единственное решение."
      ],
      "metadata": {
        "id": "Bmn_h_yX8yJg"
      }
    },
    {
      "cell_type": "markdown",
      "source": [
        "##__4.__ Дана система линейных уравнений, заданная расширенной матрицей\n",
        "\n",
        "$$\\tilde{A}=\\begin{pmatrix}\n",
        "\\left.\\begin{matrix}\n",
        "1 & 2 & 3\\\\ \n",
        "4 & 5 & 6\\\\ \n",
        "7 & 8 & 9\n",
        "\\end{matrix}\\right|\n",
        "\\begin{matrix}\n",
        "a\\\\ \n",
        "b\\\\\n",
        "c\n",
        "\\end{matrix}\n",
        "\\end{pmatrix}.$$\n",
        "\n",
        "##Найти соотношение между параметрами $a$, $b$ и $c$, при которых система является несовместной."
      ],
      "metadata": {
        "id": "D0j0xXgvH544"
      }
    },
    {
      "cell_type": "markdown",
      "source": [
        "$\\begin{pmatrix}\n",
        "\\left.\\begin{matrix}\n",
        "1 & 2 & 3\\\\ \n",
        "4 & 5 & 6\\\\ \n",
        "7 & 8 & 9\n",
        "\\end{matrix}\\right|\n",
        "\\begin{matrix}\n",
        "a\\\\ \n",
        "b\\\\\n",
        "c\n",
        "\\end{matrix}\n",
        "\\end{pmatrix}$\n",
        "\n",
        "$\\begin{pmatrix}\n",
        "\\left.\\begin{matrix}\n",
        "1 & 2 & 3\\\\ \n",
        "0 & -3 & -6\\\\ \n",
        "0 & -6 & -12\n",
        "\\end{matrix}\\right|\n",
        "\\begin{matrix}\n",
        "a\\\\ \n",
        "b - 4a\\\\\n",
        "c - 7a\n",
        "\\end{matrix}\n",
        "\\end{pmatrix}$\n",
        "\n",
        "$\\begin{pmatrix}\n",
        "\\left.\\begin{matrix}\n",
        "1 & 2 & 3\\\\ \n",
        "0 & -3 & -6\\\\ \n",
        "0 & 0 & 0\n",
        "\\end{matrix}\\right|\n",
        "\\begin{matrix}\n",
        "a\\\\ \n",
        "b - 4a\\\\\n",
        "c + a - 2b\n",
        "\\end{matrix}\n",
        "\\end{pmatrix}$\n",
        "\n",
        "Ранг матрицы $A$ = 2. Система будет несовместной в случае, если ранг расширенной матрицы больше 2, т.е.<br>\n",
        "$c + a - 2b \\neq 0$\n",
        "\n"
      ],
      "metadata": {
        "id": "Hmb5n1KcDBNQ"
      }
    },
    {
      "cell_type": "code",
      "source": [
        "a = np.array([[1, 2, 3], [4, 5, 6], [7, 8, 9]])\n",
        "b = np.array([[1, 2, 1]])\n",
        "c = np.concatenate((a, b.T), axis=1)\n",
        "c\n"
      ],
      "metadata": {
        "colab": {
          "base_uri": "https://localhost:8080/"
        },
        "outputId": "cd468246-0f8d-46a6-f4ea-cb7914b73374",
        "id": "OdWWUOWe-kIh"
      },
      "execution_count": 12,
      "outputs": [
        {
          "output_type": "execute_result",
          "data": {
            "text/plain": [
              "array([[1, 2, 3, 1],\n",
              "       [4, 5, 6, 2],\n",
              "       [7, 8, 9, 1]])"
            ]
          },
          "metadata": {},
          "execution_count": 12
        }
      ]
    },
    {
      "cell_type": "code",
      "source": [
        "rank_a = np.linalg.matrix_rank(a)\n",
        "rank_c = np.linalg.matrix_rank(c)\n",
        "print(rank_a, rank_c)"
      ],
      "metadata": {
        "colab": {
          "base_uri": "https://localhost:8080/"
        },
        "outputId": "495d78c4-45a4-458d-8ffd-434aab887706",
        "id": "meK-VSXk-yaN"
      },
      "execution_count": 13,
      "outputs": [
        {
          "output_type": "stream",
          "name": "stdout",
          "text": [
            "2 3\n"
          ]
        }
      ]
    },
    {
      "cell_type": "markdown",
      "source": [
        "##__1.__ Решить систему уравнений методом Крамера:\n",
        "\n",
        "   а) $\\begin{cases}\n",
        "x_{1}-2x_{2}=1 \\\\\n",
        "3x_{1}-4x_{2}=7\n",
        "\\end{cases}$\n",
        "    \n",
        "   б) $\\begin{cases}\n",
        "2x_{1}-x_{2}+5x_{3}=10 \\\\\n",
        "x_{1}+x_{2}-3x_{3}=-2 \\\\\n",
        "2x_{1}+4x_{2}+x_{3}=1\n",
        "\\end{cases}$\n"
      ],
      "metadata": {
        "id": "BI-YGeUMIOaO"
      }
    },
    {
      "cell_type": "markdown",
      "source": [
        "а)<br>\n",
        "$detA = \n",
        "\\begin{vmatrix}\n",
        "1 & -2\\\\\n",
        "3 & -4\n",
        "\\end{vmatrix}=\n",
        "-4 + 6 = 2 \\neq 0$\n",
        "\n",
        "Система совместна.\n",
        "\n",
        "$detA_{1} =\n",
        "\\begin{vmatrix}\n",
        "1 & -2\\\\\n",
        "7 & -4\n",
        "\\end{vmatrix} = \n",
        "-4 + 14 = 10$\n",
        "\n",
        "$detA_{2} =\n",
        "\\begin{vmatrix}\n",
        "1 & 1\\\\\n",
        "3 & 7\n",
        "\\end{vmatrix} = \n",
        "7 - 3 = 4$\n",
        "\n",
        "$x_{1} = \\frac{detA_{1}}{detA} = \\frac{10}{2} = 5,$\n",
        "\n",
        "$x_{2} = \\frac{detA_{2}}{detA} = \\frac{4}{2} = 2.$\n"
      ],
      "metadata": {
        "id": "Qg2MDns2_c19"
      }
    },
    {
      "cell_type": "code",
      "source": [
        "a = np.array([[1, -2], [3, -4]])\n",
        "b = np.array([[1, 7]])\n",
        "np.linalg.solve(a, b.T)"
      ],
      "metadata": {
        "colab": {
          "base_uri": "https://localhost:8080/"
        },
        "id": "x2gfW8hyBoNm",
        "outputId": "8e60eef5-1406-4b9a-c143-2053bf61c675"
      },
      "execution_count": 14,
      "outputs": [
        {
          "output_type": "execute_result",
          "data": {
            "text/plain": [
              "array([[5.],\n",
              "       [2.]])"
            ]
          },
          "metadata": {},
          "execution_count": 14
        }
      ]
    },
    {
      "cell_type": "markdown",
      "source": [
        "б)<br> \n",
        "$detA=\\begin{vmatrix}\n",
        "2 & -1 & 5\\\\ \n",
        "1 & 1 & -3\\\\ \n",
        "2 & 4 & 1\n",
        "\\end{vmatrix}=\n",
        "2\\begin{vmatrix}\n",
        "1 & -3\\\\ \n",
        "4 & 1 \n",
        "\\end{vmatrix}-\n",
        "\\begin{vmatrix}\n",
        "-1 & 5\\\\ \n",
        "4 & 1 \n",
        "\\end{vmatrix}+\n",
        "2\\begin{vmatrix}\n",
        "-1 & 5 \\\\ \n",
        "1 & -3\n",
        "\\end{vmatrix}=\n",
        "2(1 + 12) - (-1 - 20) + 2(3 - 5) = 26 + 21 - 4 = 43\\neq 0$\n",
        "\n",
        "Cистема совместна.\n",
        "\n",
        "$detA_{1}=\\begin{vmatrix}\n",
        "10 & -1 & 5\\\\ \n",
        "-2 & 1 & -3\\\\ \n",
        "1 & 4 & 1\n",
        "\\end{vmatrix}=\n",
        "\\begin{vmatrix}\n",
        "-1 & 5\\\\ \n",
        "1 & -3 \n",
        "\\end{vmatrix}-\n",
        "4\\begin{vmatrix}\n",
        "10 & 5\\\\ \n",
        "-2 & -3 \n",
        "\\end{vmatrix}+\n",
        "\\begin{vmatrix}\n",
        "10 & -1 \\\\ \n",
        "-2 & 1\n",
        "\\end{vmatrix}= \n",
        "(3 - 5) - 4(-30 + 10) + (10 - 2) = -2 + 80 + 8 = 86$\n",
        "\n",
        "$detA_{2}=\\begin{vmatrix}\n",
        "2 & 10 & -5\\\\ \n",
        "1 & -2 & -3\\\\ \n",
        "2 & 1 & 1\n",
        "\\end{vmatrix}=\n",
        "2\\begin{vmatrix}\n",
        "10 & 5\\\\ \n",
        "-2 & -3 \n",
        "\\end{vmatrix}-\n",
        "\\begin{vmatrix}\n",
        "2 & 5\\\\ \n",
        "1 & -3 \n",
        "\\end{vmatrix}+\n",
        "\\begin{vmatrix}\n",
        "2 & 10 \\\\ \n",
        "1 & -2\n",
        "\\end{vmatrix}= \n",
        "2(-30 + 10) - (-6 - 5) + (-4 - 10) = -40 + 11 - 14 = -43$\n",
        "\n",
        "$detA_{3}=\\begin{vmatrix}\n",
        "2 & -1 & 10\\\\ \n",
        "1 & 1 & -2\\\\ \n",
        "2 & 4 & 1\n",
        "\\end{vmatrix}=\n",
        "-\\begin{vmatrix}\n",
        "-1 & 10\\\\ \n",
        "4 & 1 \n",
        "\\end{vmatrix}+\n",
        "\\begin{vmatrix}\n",
        "2 & 10\\\\ \n",
        "2 & 1 \n",
        "\\end{vmatrix}+\n",
        "2\\begin{vmatrix}\n",
        "2 & -1 \\\\ \n",
        "2 & 4\n",
        "\\end{vmatrix}= \n",
        "-(-1 - 40) + (2 - 20) + 2(8 + 2) = 41 - 18 + 20 = 43$\n",
        "\n",
        "$x_{1} = \\frac{detA_{1}}{detA} = \\frac{86}{43} = 2,$\n",
        "\n",
        "$x_{2} = \\frac{detA_{2}}{detA} = \\frac{-43}{43} = -1,$\n",
        "\n",
        "$x_{3} = \\frac{detA_{3}}{detA} = \\frac{43}{43}= 1.$\n"
      ],
      "metadata": {
        "id": "83JmrlY2PALj"
      }
    },
    {
      "cell_type": "code",
      "source": [
        "a = np.array([[2, -1, 5], [1, 1, -3], [2, 4, 1]])\n",
        "b = np.array([[10, -2, 1]])\n",
        "np.linalg.solve(a, b.T)"
      ],
      "metadata": {
        "colab": {
          "base_uri": "https://localhost:8080/"
        },
        "outputId": "c927a57c-745d-4bb0-9a2b-31912efbc705",
        "id": "me0AwoOtUJpj"
      },
      "execution_count": 15,
      "outputs": [
        {
          "output_type": "execute_result",
          "data": {
            "text/plain": [
              "array([[ 2.],\n",
              "       [-1.],\n",
              "       [ 1.]])"
            ]
          },
          "metadata": {},
          "execution_count": 15
        }
      ]
    },
    {
      "cell_type": "code",
      "source": [
        "det_a = np.linalg.det(a).round(0)\n",
        "det_a"
      ],
      "metadata": {
        "colab": {
          "base_uri": "https://localhost:8080/"
        },
        "id": "2kg98Z1PacfB",
        "outputId": "2a45c307-a571-4f29-8906-eb31878430a0"
      },
      "execution_count": 16,
      "outputs": [
        {
          "output_type": "execute_result",
          "data": {
            "text/plain": [
              "43.0"
            ]
          },
          "metadata": {},
          "execution_count": 16
        }
      ]
    },
    {
      "cell_type": "code",
      "source": [
        "a_1 = np.insert(np.delete(a,0,1), 0, b, 1)\n",
        "det_a_1 = np.linalg.det(a_1).round(0)\n",
        "det_a_1"
      ],
      "metadata": {
        "colab": {
          "base_uri": "https://localhost:8080/"
        },
        "id": "3FBeEE6ZVCHj",
        "outputId": "5dff79b6-6eba-49d0-9a3f-085769ac0be0"
      },
      "execution_count": 17,
      "outputs": [
        {
          "output_type": "execute_result",
          "data": {
            "text/plain": [
              "86.0"
            ]
          },
          "metadata": {},
          "execution_count": 17
        }
      ]
    },
    {
      "cell_type": "code",
      "source": [
        "a_2 = np.insert(np.delete(a,1,1), 1, b, 1)\n",
        "det_a_2 = np.linalg.det(a_2).round(0)\n",
        "det_a_2"
      ],
      "metadata": {
        "colab": {
          "base_uri": "https://localhost:8080/"
        },
        "outputId": "d61c84a5-bafa-4a8a-d309-2db15be62ed2",
        "id": "HRbuT07NYE0v"
      },
      "execution_count": 18,
      "outputs": [
        {
          "output_type": "execute_result",
          "data": {
            "text/plain": [
              "-43.0"
            ]
          },
          "metadata": {},
          "execution_count": 18
        }
      ]
    },
    {
      "cell_type": "code",
      "source": [
        "a_3 = np.insert(np.delete(a,2,1), 2, b, 1)\n",
        "det_a_3 = np.linalg.det(a_3).round(0)\n",
        "det_a_3"
      ],
      "metadata": {
        "colab": {
          "base_uri": "https://localhost:8080/"
        },
        "outputId": "8fc736ad-27fb-42b6-82f4-e743001eefaa",
        "id": "_bvT0SUxYNqS"
      },
      "execution_count": 19,
      "outputs": [
        {
          "output_type": "execute_result",
          "data": {
            "text/plain": [
              "43.0"
            ]
          },
          "metadata": {},
          "execution_count": 19
        }
      ]
    },
    {
      "cell_type": "code",
      "source": [
        "print(f'x1 = {det_a_1/det_a};\\nx2 = {det_a_2/det_a};\\nx3 = {det_a_3/det_a}.')"
      ],
      "metadata": {
        "colab": {
          "base_uri": "https://localhost:8080/"
        },
        "id": "oHBdXhRdZ5Rp",
        "outputId": "9cb5452c-37ed-45e8-813a-bd23ed9acf28"
      },
      "execution_count": 22,
      "outputs": [
        {
          "output_type": "stream",
          "name": "stdout",
          "text": [
            "x1 = 2.0;\n",
            "x2 = -1.0;\n",
            "x3 = 1.0.\n"
          ]
        }
      ]
    },
    {
      "cell_type": "markdown",
      "source": [
        "##__5*.__ Написать на Python программу с реализацией одного из изученных алгоритмов решения СЛАУ."
      ],
      "metadata": {
        "id": "Qpn3FI6iIqJ1"
      }
    },
    {
      "cell_type": "code",
      "source": [
        "def LU_decomp(x):\n",
        "  n = x.shape[0]\n",
        "  l = np.eye(n)\n",
        "  u = x.copy()\n",
        "  for k in range(n-1):\n",
        "    for i in range (k+1, n):\n",
        "      factor = u[i][k]/u[k][k]\n",
        "      l[i,k]= factor\n",
        "      for j in range(k,n):\n",
        "        u[i][j] -= factor*u[k][j]\n",
        "  return(l,u)\n",
        "  "
      ],
      "metadata": {
        "id": "yhL_n-hwIfxJ"
      },
      "execution_count": 23,
      "outputs": []
    },
    {
      "cell_type": "code",
      "source": [
        "def LU_solve(l,u,b):\n",
        "  n = l.shape[0]\n",
        "  lb = np.hstack((l,b.T))\n",
        "  for k in range(n-1):\n",
        "    y = lb[k][n]\n",
        "    for i in range (k+1,n):\n",
        "      lb[i][n] -= y*lb[i][k]\n",
        "  y = np.delete(lb,range(n),1)\n",
        "  uy = np.hstack((u,y))\n",
        "  x = np.zeros((n,1))\n",
        "  for k in range(n-1,0-1,-1):\n",
        "    x[k] = uy[k][n]/uy[k][k]\n",
        "    for i in range(k-1,0-1,-1):\n",
        "      uy[i][n]-= x[k]*uy[i][k]\n",
        "  return(x)"
      ],
      "metadata": {
        "id": "rEA1KqWgMwrd"
      },
      "execution_count": 24,
      "outputs": []
    },
    {
      "cell_type": "markdown",
      "metadata": {
        "id": "ZBi7FV66fPKf"
      },
      "source": [
        "##__2*.__ Найти $L$-матрицу $LU$-разложения для матрицы коэффициентов:\n",
        "\n",
        "   а)$$\\begin{pmatrix}\n",
        "1 & 2 & 4 \\\\ \n",
        "2 & 9 & 12 \\\\ \n",
        "3 & 26 & 30\n",
        "\\end{pmatrix}$$\n",
        "    \n",
        "   б)$$\\begin{pmatrix}\n",
        "1 & 1 & 2 & 4\\\\ \n",
        "2 & 5 & 8 & 9\\\\ \n",
        "3 & 18 & 29 & 18\\\\\n",
        "4 & 22 & 53 & 33\n",
        "\\end{pmatrix}$$"
      ]
    },
    {
      "cell_type": "markdown",
      "source": [
        "а)<br> \n",
        "$\\begin{pmatrix}\n",
        "1 & 2 & 4\\\\\n",
        "2 & 9 & 12\\\\\n",
        "3 & 26 & 30\n",
        "\\end{pmatrix}$\n",
        "\n",
        "$\\begin{pmatrix}\n",
        "1 & 2 & 4\\\\\n",
        "0 & 5 & 4\\\\\n",
        "0 & 20 & 18\n",
        "\\end{pmatrix}$\n",
        "\n",
        "$\\begin{pmatrix}\n",
        "1 & 2 & 4\\\\\n",
        "0 & 5 & 4\\\\\n",
        "0 & 0 & 2\n",
        "\\end{pmatrix}$\n",
        "\n",
        "\n",
        "$L = \\begin{pmatrix}\n",
        "1 & 0 & 0\\\\\n",
        "2 & 1 & 0\\\\\n",
        "3 & 4 & 1\n",
        "\\end{pmatrix}$"
      ],
      "metadata": {
        "id": "s8CKfA4NrQfG"
      }
    },
    {
      "cell_type": "code",
      "source": [
        "a = np.array([[1, 2, 4], [2, 9, 12], [3, 26, 30]])\n",
        "l,u = LU_decomp(a)\n",
        "print(f'Матрица L:\\n{l}')"
      ],
      "metadata": {
        "colab": {
          "base_uri": "https://localhost:8080/"
        },
        "id": "rJJw4tUnNSs2",
        "outputId": "d46184d9-5e96-4a23-be6e-82b580de79fe"
      },
      "execution_count": 25,
      "outputs": [
        {
          "output_type": "stream",
          "name": "stdout",
          "text": [
            "Матрица L:\n",
            "[[1. 0. 0.]\n",
            " [2. 1. 0.]\n",
            " [3. 4. 1.]]\n"
          ]
        }
      ]
    },
    {
      "cell_type": "code",
      "source": [
        "l@u"
      ],
      "metadata": {
        "colab": {
          "base_uri": "https://localhost:8080/"
        },
        "outputId": "df125d1b-40d5-4a8e-9af3-16bfb5df171e",
        "id": "O6CXnD_xPG-x"
      },
      "execution_count": 26,
      "outputs": [
        {
          "output_type": "execute_result",
          "data": {
            "text/plain": [
              "array([[ 1.,  2.,  4.],\n",
              "       [ 2.,  9., 12.],\n",
              "       [ 3., 26., 30.]])"
            ]
          },
          "metadata": {},
          "execution_count": 26
        }
      ]
    },
    {
      "cell_type": "markdown",
      "source": [
        "б)<br> \n",
        "$\\begin{pmatrix}\n",
        "1 & 1 & 2 & 4\\\\\n",
        "2 & 5 & 8 & 9\\\\\n",
        "3 & 18 & 29 & 18\\\\\n",
        "4 & 22 & 53 & 33\n",
        "\\end{pmatrix}$\n",
        "\n",
        "$\\begin{pmatrix}\n",
        "1 & 1 & 2 & 4\\\\\n",
        "0 & 3 & 4 & 1\\\\\n",
        "0 & 15 & 23 & 6\\\\\n",
        "0 & 18 & 45 & 17\n",
        "\\end{pmatrix}$\n",
        "\n",
        "$\\begin{pmatrix}\n",
        "1 & 1 & 2 & 4\\\\\n",
        "0 & 3 & 4 & 1\\\\\n",
        "0 & 0 & 3 & 1\\\\\n",
        "0 & 0 & 21 & 11\n",
        "\\end{pmatrix}$\n",
        "\n",
        "$\\begin{pmatrix}\n",
        "1 & 1 & 2 & 4\\\\\n",
        "0 & 3 & 4 & 1\\\\\n",
        "0 & 0 & 3 & 1\\\\\n",
        "0 & 0 & 0 & 4\n",
        "\\end{pmatrix}$\n",
        "\n",
        "$L = \\begin{pmatrix}\n",
        "1 & 0 & 0 & 0\\\\\n",
        "2 & 1 & 0 & 0\\\\\n",
        "3 & 5 & 1 & 0\\\\\n",
        "4 & 6 & 7 & 1\n",
        "\\end{pmatrix}$"
      ],
      "metadata": {
        "id": "G2MiaG54tghS"
      }
    },
    {
      "cell_type": "code",
      "source": [
        "a = np.array([[1,1,2,4],[2,5,8,9],[3,18,29,18],[4,22,53,33]])\n",
        "l,u = LU_decomp(a)\n",
        "print(f'Матрица L:\\n{l}')"
      ],
      "metadata": {
        "id": "4O-rDapALB6U",
        "colab": {
          "base_uri": "https://localhost:8080/"
        },
        "outputId": "bb3b6f63-d385-4399-90a8-10210d018982"
      },
      "execution_count": 27,
      "outputs": [
        {
          "output_type": "stream",
          "name": "stdout",
          "text": [
            "Матрица L:\n",
            "[[1. 0. 0. 0.]\n",
            " [2. 1. 0. 0.]\n",
            " [3. 5. 1. 0.]\n",
            " [4. 6. 7. 1.]]\n"
          ]
        }
      ]
    },
    {
      "cell_type": "code",
      "source": [
        "l@u"
      ],
      "metadata": {
        "colab": {
          "base_uri": "https://localhost:8080/"
        },
        "id": "PrNcAtgrOOgi",
        "outputId": "e5f4043d-49bc-43ad-d86c-b9b0fde8f9eb"
      },
      "execution_count": 28,
      "outputs": [
        {
          "output_type": "execute_result",
          "data": {
            "text/plain": [
              "array([[ 1.,  1.,  2.,  4.],\n",
              "       [ 2.,  5.,  8.,  9.],\n",
              "       [ 3., 18., 29., 18.],\n",
              "       [ 4., 22., 53., 33.]])"
            ]
          },
          "metadata": {},
          "execution_count": 28
        }
      ]
    },
    {
      "cell_type": "markdown",
      "source": [
        "##__3*.__ Решить систему линейных уравнений методом $LU$-разложения\n",
        "\n",
        "$$\\begin{cases}\n",
        "2x_{1}+x_{2}+3x_{3}=1 \\\\\n",
        "11x_{1}+7x_{2}+5x_{3}=-6 \\\\\n",
        "9x_{1}+8x_{2}+4x_{3}=-5\n",
        "\\end{cases}$$"
      ],
      "metadata": {
        "id": "K1Fy3DrSIybP"
      }
    },
    {
      "cell_type": "markdown",
      "source": [
        "$\\begin{pmatrix}\n",
        "2 & 1 & 3\\\\\n",
        "11 & 7 & 5\\\\\n",
        "9 & 8 & 4\n",
        "\\end{pmatrix}$\n",
        "\n",
        "$\\begin{pmatrix}\n",
        "2 & 1 & 3\\\\\n",
        "0 & 1.5 & -11.5\\\\\n",
        "0 & 3.5 & -9.5\n",
        "\\end{pmatrix}$\n",
        "\n",
        "$U = \\begin{pmatrix}\n",
        "2 & 1 & 3\\\\\n",
        "0 & 1.5 & -11.5\\\\\n",
        "0 & 0 & \\frac{52}{3}\n",
        "\\end{pmatrix}$\n",
        "\n",
        "$L = \\begin{pmatrix}\n",
        "1 & 0 & 0\\\\\n",
        "5.5 & 1 & 0\\\\\n",
        "4.5 & \\frac{7}{3} & 1\n",
        "\\end{pmatrix}$\n",
        "\n",
        "$Ly = b\\\\\n",
        "\\begin{cases}\n",
        "y_{1} = 1\\\\\n",
        "5.5y_{1} + y_{2} = -6\\\\\n",
        "4.5y_{1} + \\frac{7}{3}y_{2} + y_{3} = -5 \n",
        "\\end{cases} \\Rightarrow \n",
        "\\begin{cases}\n",
        "y_{1} = 1\\\\\n",
        "y_{2} = -11.5\\\\\n",
        "y_{3} = -5 -4.5 + \\frac{161}{6} \n",
        "\\end{cases} ⇒\n",
        "\\begin{cases}\n",
        "y_{1} = 1\\\\\n",
        "y_{2} = -11.5\\\\\n",
        "y_{3} = \\frac{52}{3} \n",
        "\\end{cases}$\n",
        "\n",
        "$Ux = y\\\\\n",
        "\\begin{cases}\n",
        "2x_{1} + x_{2} + 3x_{3} = 1\\\\\n",
        "x_{2} - 11.5x{3} = -11.5\\\\\n",
        "\\frac{52}{3}x_{3} = \\frac{52}{3}\n",
        "\\end{cases} \\Rightarrow\n",
        "\\begin{cases}\n",
        "x_{1} = -1\\\\\n",
        "x_{2} = 0\\\\\n",
        "x_{3} = 1\n",
        "\\end{cases}$\n",
        "\n"
      ],
      "metadata": {
        "id": "EfJXu5fRDSvu"
      }
    },
    {
      "cell_type": "code",
      "source": [
        "a = np.array([[2,1,3],[11,7,5],[9,8,4]], float)\n",
        "b = np.array([[1,-6,-5]])"
      ],
      "metadata": {
        "id": "WtuOS31YxR0Q"
      },
      "execution_count": 34,
      "outputs": []
    },
    {
      "cell_type": "code",
      "source": [
        "lu, piv = linalg.lu_factor(a)\n",
        "x = linalg.lu_solve((lu,piv),b.T)\n",
        "x"
      ],
      "metadata": {
        "colab": {
          "base_uri": "https://localhost:8080/"
        },
        "id": "oRfj5jS1I11U",
        "outputId": "d662c3ff-a60a-4dfc-a7ba-fbdd7da3a1e8"
      },
      "execution_count": 30,
      "outputs": [
        {
          "output_type": "execute_result",
          "data": {
            "text/plain": [
              "array([[-1.],\n",
              "       [ 0.],\n",
              "       [ 1.]])"
            ]
          },
          "metadata": {},
          "execution_count": 30
        }
      ]
    },
    {
      "cell_type": "code",
      "source": [
        "l,u = LU_decomp(a)\n",
        "print(f'U = \\n{u};\\nL = \\n{l}')"
      ],
      "metadata": {
        "colab": {
          "base_uri": "https://localhost:8080/"
        },
        "id": "S704FQ5U7EW5",
        "outputId": "5c18c111-e22f-4cba-f71e-9a6426550d60"
      },
      "execution_count": 35,
      "outputs": [
        {
          "output_type": "stream",
          "name": "stdout",
          "text": [
            "U = \n",
            "[[  2.           1.           3.        ]\n",
            " [  0.           1.5        -11.5       ]\n",
            " [  0.           0.          17.33333333]];\n",
            "L = \n",
            "[[1.         0.         0.        ]\n",
            " [5.5        1.         0.        ]\n",
            " [4.5        2.33333333 1.        ]]\n"
          ]
        }
      ]
    },
    {
      "cell_type": "code",
      "source": [
        "x = LU_solve(l,u,b)\n",
        "print(f'x1 = {x[0]};\\nx2 = {x[1]};\\nx3 = {x[2]}')"
      ],
      "metadata": {
        "colab": {
          "base_uri": "https://localhost:8080/"
        },
        "id": "FQCGBSaesp_N",
        "outputId": "71ff6a37-8e04-44b2-f4b8-5d6c3e18d393"
      },
      "execution_count": 39,
      "outputs": [
        {
          "output_type": "stream",
          "name": "stdout",
          "text": [
            "x1 = [-1.];\n",
            "x2 = [0.];\n",
            "x3 = [1.]\n"
          ]
        }
      ]
    },
    {
      "cell_type": "markdown",
      "source": [
        "##__4*.__ Решить систему линейных уравнений методом Холецкого\n",
        "\n",
        "$$\\begin{cases}\n",
        "81x_{1}-45x_{2}+45x_{3}=531 \\\\\n",
        "-45x_{1}+50x_{2}-15x_{3}=-460 \\\\\n",
        "45x_{1}-15x_{2}+38x_{3}=193\n",
        "\\end{cases}$$\n"
      ],
      "metadata": {
        "id": "PYBuOpWyI40E"
      }
    },
    {
      "cell_type": "markdown",
      "source": [
        "$\\begin{pmatrix}\n",
        "81 & -45 & 45\\\\\n",
        "-45 & 50 & -15\\\\\n",
        "45 & -15 & 38\n",
        "\\end{pmatrix}$\n",
        "\n",
        "$l_{11} = \\sqrt{a_{11}} = \\sqrt{81} = 9\\\\\n",
        "l_{21} = \\frac{a_{21}}{l_{11}} = \\frac{-45}{9} = -5\\\\\n",
        "l_{31} = \\frac{a_{31}}{l_{11}} = \\frac{45}{9} = 5\\\\\n",
        "l_{22} = \\sqrt{a_{22}-l_{21}^2} = \\sqrt{50 - 25} = 5\\\\\n",
        "l_{32} = \\frac{1}{l_{22}}(a_{32} - l_{21}l_{31}) = \\frac{1}{5}(-15 - (-5)\\cdot5) = 2\\\\\n",
        "l_{33} = \\sqrt{a_{33}-l_{31}^2-l_{32^2}} = \\sqrt{38 - 25 - 4} = 3\n",
        "$\n",
        "\n",
        "$L =\\begin{pmatrix}\n",
        "9 & 0 & 0\\\\\n",
        "-5 & 5 & 0\\\\\n",
        "5 & 2 & 3\n",
        "\\end{pmatrix}$\n",
        "\n",
        "$L^T =\\begin{pmatrix}\n",
        "9 & -5 & 5\\\\\n",
        "0 & 5 & 2\\\\\n",
        "0 & 0 & 3\n",
        "\\end{pmatrix}$\n",
        "\n",
        "$Ly = b\\\\\n",
        "\\begin{cases}\n",
        "9y_{1} = 531\\\\\n",
        "-5y_{1} + 5y_{2} = -460\\\\\n",
        "5y_{1} + 2y_{2} + 3y_{3} = 193 \n",
        "\\end{cases} ⇒\n",
        "\\begin{cases}\n",
        "y_{1} = 59\\\\\n",
        "5y_{2} = -460 + 295\\\\\n",
        "2y_{2} + 3y_{3} = 193 - 295\n",
        "\\end{cases} \\Rightarrow\n",
        "\\begin{cases}\n",
        "y_{1} = 59\\\\\n",
        "y_{2} = -33\\\\\n",
        "y_{3} = -12\n",
        "\\end{cases}$\n",
        "\n",
        "$L^Tx = y\\\\\n",
        "\\begin{cases}\n",
        "9x_{1} - 5x_{2} + 5x_{3} = 59\\\\\n",
        "5x_{2} + 2x_{3} = -33\\\\\n",
        "3x_{3} = -12\n",
        "\\end{cases}⇒\n",
        "\\begin{cases}\n",
        "9x_{1} - 5x_{2} = 59 - 25\\\\\n",
        "5x_{2} = -33 + 8\\\\\n",
        "x_{3} = -4\n",
        "\\end{cases}⇒\n",
        "\\begin{cases}\n",
        "x_{1} = 6\\\\\n",
        "x_{2} = -5\\\\\n",
        "x_{3} = -4\n",
        "\\end{cases}$"
      ],
      "metadata": {
        "id": "Cuc8wmEG0iby"
      }
    },
    {
      "cell_type": "code",
      "source": [
        "a = np.array([[81,-45,45],[-45,50,-15],[45,-15,38]], float)\n",
        "b = np.array([[531,-460,193]])\n",
        "L = np.linalg.cholesky(a)\n",
        "L"
      ],
      "metadata": {
        "colab": {
          "base_uri": "https://localhost:8080/"
        },
        "id": "aRjdnPUFLH-q",
        "outputId": "c36848a5-eb26-4028-ff7f-e5473d69275c"
      },
      "execution_count": 40,
      "outputs": [
        {
          "output_type": "execute_result",
          "data": {
            "text/plain": [
              "array([[ 9.,  0.,  0.],\n",
              "       [-5.,  5.,  0.],\n",
              "       [ 5.,  2.,  3.]])"
            ]
          },
          "metadata": {},
          "execution_count": 40
        }
      ]
    },
    {
      "cell_type": "code",
      "source": [
        "c, low = linalg.cho_factor(a)\n",
        "x = linalg.cho_solve((c, low), b.T)\n",
        "print(f'x1 = {x[0]};\\nx2 = {x[1]};\\nx3 = {x[2]}')"
      ],
      "metadata": {
        "colab": {
          "base_uri": "https://localhost:8080/"
        },
        "id": "3wnOAUQwKvok",
        "outputId": "94f98c85-eb82-498b-9859-b77208f40d67"
      },
      "execution_count": 42,
      "outputs": [
        {
          "output_type": "stream",
          "name": "stdout",
          "text": [
            "x1 = [6.];\n",
            "x2 = [-5.];\n",
            "x3 = [-4.]\n"
          ]
        }
      ]
    }
  ]
}