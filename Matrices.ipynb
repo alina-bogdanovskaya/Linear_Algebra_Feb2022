{
  "nbformat": 4,
  "nbformat_minor": 0,
  "metadata": {
    "colab": {
      "name": "Matrices.ipynb",
      "provenance": [],
      "collapsed_sections": [],
      "authorship_tag": "ABX9TyNJBKEuYjKmSH0Lf+Ij8pGY",
      "include_colab_link": true
    },
    "kernelspec": {
      "name": "python3",
      "display_name": "Python 3"
    },
    "language_info": {
      "name": "python"
    }
  },
  "cells": [
    {
      "cell_type": "markdown",
      "metadata": {
        "id": "view-in-github",
        "colab_type": "text"
      },
      "source": [
        "<a href=\"https://colab.research.google.com/github/alina-bogdanovskaya/Linear_Algebra_Feb2022/blob/lesson2/Matrices.ipynb\" target=\"_parent\"><img src=\"https://colab.research.google.com/assets/colab-badge.svg\" alt=\"Open In Colab\"/></a>"
      ]
    },
    {
      "cell_type": "code",
      "execution_count": 69,
      "metadata": {
        "id": "BdikbUMgSeIn"
      },
      "outputs": [],
      "source": [
        "import numpy as np"
      ]
    },
    {
      "cell_type": "markdown",
      "metadata": {
        "id": "gyHgteNRThgL"
      },
      "source": [
        "##__1.__ Установить, какие произведения матриц $AB$ и $BA$ определены, и найти размерности полученных матриц:"
      ]
    },
    {
      "cell_type": "markdown",
      "source": [
        "   а) $A$ — матрица $4\\times 2$, $B$ — матрица $4\\times 2$.\n",
        "\n",
        "Произведение матриц $AB$ не определено, поскольку число столбцов матрицы $A$ не равно числу строк матрицы $B$.\n",
        " \n",
        "Произведение матриц $BA$ не определено, поскольку число столбцов матрицы $B$ не равно числу строк матрицы $A$."
      ],
      "metadata": {
        "id": "VSQssHgz9tkX"
      }
    },
    {
      "cell_type": "markdown",
      "source": [
        "   б) $A$ — матрица $2\\times 5$, $B$ — матрица $5\\times 3$.\n",
        "\n",
        "Найти произведение матриц $AB$ возможно, результирующая матрица будет иметь размер $2\\times 3$.\n",
        "\n",
        "Произведение матриц $BA$ не определено, поскольку число столбцов матрицы $B$ не равно числу строк матрицы $A$."
      ],
      "metadata": {
        "id": "MhCAaVdR92s5"
      }
    },
    {
      "cell_type": "markdown",
      "source": [
        "   в) $A$ — матрица $8\\times 3$, $B$ — матрица $3\\times 8$.\n",
        "\n",
        "Найти произведение матриц $AB$ возможно, результирующая матрица будет иметь размер $8\\times 8$.\n",
        "\n",
        "Найти произведение матриц $BA$ возможно, результирующая матрица будет иметь размер $3\\times 3$."
      ],
      "metadata": {
        "id": "6mmULJtQ93s-"
      }
    },
    {
      "cell_type": "markdown",
      "source": [
        "   г) $A$ — квадратная матрица $4\\times 4$, $B$ — квадратная матрица $4\\times 4$.\n",
        "\n",
        "Поскольку обе матрицы квадратные и их размеры совпадают, оба произведени определены. В обоих случаях получим квадратную результирующую матрицу $4\\times 4$."
      ],
      "metadata": {
        "id": "4IDcbZZC94Xk"
      }
    },
    {
      "cell_type": "markdown",
      "metadata": {
        "id": "nhVmwhhtTItS"
      },
      "source": [
        "##__5*.__ Написать на Python функцию для перемножения двух произвольных матриц, не используя NumPy."
      ]
    },
    {
      "cell_type": "code",
      "source": [
        "def matrices_mult(a,b):\n",
        "  if len(a) < 1 or len(b) < 1:\n",
        "    raise ValueError('not a matrix')\n",
        "  m_a,n_a = a.shape\n",
        "  m_b,n_b = b.shape\n",
        "  if n_a != m_b:\n",
        "    raise ValueError('not equal dimensions')\n",
        "  c = np.zeros((m_a,n_b))\n",
        "  for i in range(m_a):\n",
        "    for j in range(n_b):\n",
        "      for k in range(n_a):\n",
        "        c[i][j] += a[i][k]*b[k][j]\n",
        "  return(c)"
      ],
      "metadata": {
        "id": "ONr-AQg8bNI9"
      },
      "execution_count": 70,
      "outputs": []
    },
    {
      "cell_type": "markdown",
      "metadata": {
        "id": "ofihM87rTIGy"
      },
      "source": [
        "##__2.__ Найти сумму и произведение матриц $A=\\begin{pmatrix}\n",
        "1 & -2\\\\ \n",
        "3 & 0\n",
        "\\end{pmatrix}$ и $B=\\begin{pmatrix}\n",
        "4 & -1\\\\ \n",
        "0 & 5\n",
        "\\end{pmatrix}.$"
      ]
    },
    {
      "cell_type": "markdown",
      "source": [
        "$ A + B = \\begin{pmatrix}\n",
        "1 & -2\\\\ \n",
        "3 & 0\n",
        "\\end{pmatrix} + \\begin{pmatrix}\n",
        "4 & -1\\\\ \n",
        "0 & 5\n",
        "\\end{pmatrix} = \\begin{pmatrix}\n",
        "5 & -3\\\\ \n",
        "3 & 5\n",
        "\\end{pmatrix}$\n"
      ],
      "metadata": {
        "id": "VFlN5EZ8fPGx"
      }
    },
    {
      "cell_type": "markdown",
      "source": [
        "$ A \\cdot B = \\begin{pmatrix}\n",
        "1 & -2\\\\ \n",
        "3 & 0\n",
        "\\end{pmatrix} \\cdot \\begin{pmatrix}\n",
        "4 & -1\\\\ \n",
        "0 & 5\n",
        "\\end{pmatrix} = \\begin{pmatrix}\n",
        "1 \\cdot 4 + (-2) \\cdot 0 & 1 \\cdot (-1) + (-2) \\cdot 5\\\\ \n",
        "3 \\cdot4 + 0 \\cdot 0 & 3 \\cdot (-1) + 0 \\cdot 5\n",
        "\\end{pmatrix} = \\begin{pmatrix}\n",
        "4 & -11\\\\ \n",
        "12 & -3\n",
        "\\end{pmatrix}$\n"
      ],
      "metadata": {
        "id": "Ci2J9EBwg5Nn"
      }
    },
    {
      "cell_type": "markdown",
      "source": [
        "$ B \\cdot A = \\begin{pmatrix}\n",
        "4 & -1\\\\ \n",
        "0 & 5\n",
        "\\end{pmatrix} \\cdot \\begin{pmatrix}\n",
        "1 & -2\\\\ \n",
        "3 & 0\n",
        "\\end{pmatrix} = \\begin{pmatrix}\n",
        "4 \\cdot 1 + (-1) \\cdot 3 & 4 \\cdot (-2) + (-1) \\cdot 0\\\\ \n",
        "0 \\cdot 1 + 5 \\cdot 3 & 0 \\cdot (-2) + 5 \\cdot 0\n",
        "\\end{pmatrix} = \\begin{pmatrix}\n",
        "1 & -8\\\\ \n",
        "15 & 0\n",
        "\\end{pmatrix}$\n"
      ],
      "metadata": {
        "id": "DLCRclxBoGD5"
      }
    },
    {
      "cell_type": "code",
      "source": [
        "a = np.array([[1, -2], [3, 0]])\n",
        "b = np.array([[4, -1], [0, 5]])\n",
        "\n",
        "print(f'Матрица A:\\n {a}')\n",
        "print(f'Матрица B:\\n {b}')"
      ],
      "metadata": {
        "colab": {
          "base_uri": "https://localhost:8080/"
        },
        "id": "OMDxLYMHfOcf",
        "outputId": "27b16672-e5b5-4174-a718-466a3f6ad4ac"
      },
      "execution_count": 71,
      "outputs": [
        {
          "output_type": "stream",
          "name": "stdout",
          "text": [
            "Матрица A:\n",
            " [[ 1 -2]\n",
            " [ 3  0]]\n",
            "Матрица B:\n",
            " [[ 4 -1]\n",
            " [ 0  5]]\n"
          ]
        }
      ]
    },
    {
      "cell_type": "code",
      "source": [
        "print(f'A + B =\\n {a+b}')"
      ],
      "metadata": {
        "colab": {
          "base_uri": "https://localhost:8080/"
        },
        "id": "ejwhvKa0gy8a",
        "outputId": "72b2c235-101d-4162-86e5-585264639534"
      },
      "execution_count": 72,
      "outputs": [
        {
          "output_type": "stream",
          "name": "stdout",
          "text": [
            "A + B =\n",
            " [[ 5 -3]\n",
            " [ 3  5]]\n"
          ]
        }
      ]
    },
    {
      "cell_type": "code",
      "source": [
        "print(f'A * B =\\n{a@b}')"
      ],
      "metadata": {
        "colab": {
          "base_uri": "https://localhost:8080/"
        },
        "id": "NuL9fdMGmAQM",
        "outputId": "aa827e12-95ef-471d-e0ed-bb83b1a8ea1d"
      },
      "execution_count": 73,
      "outputs": [
        {
          "output_type": "stream",
          "name": "stdout",
          "text": [
            "A * B =\n",
            "[[  4 -11]\n",
            " [ 12  -3]]\n"
          ]
        }
      ]
    },
    {
      "cell_type": "code",
      "source": [
        "matrices_mult(a,b)"
      ],
      "metadata": {
        "colab": {
          "base_uri": "https://localhost:8080/"
        },
        "id": "DlEGhO5T7MJl",
        "outputId": "c99b16a7-7051-40a9-bbcb-055c61e6521b"
      },
      "execution_count": 74,
      "outputs": [
        {
          "output_type": "execute_result",
          "data": {
            "text/plain": [
              "array([[  4., -11.],\n",
              "       [ 12.,  -3.]])"
            ]
          },
          "metadata": {},
          "execution_count": 74
        }
      ]
    },
    {
      "cell_type": "code",
      "source": [
        "print(f'B * A =\\n{b@a}')"
      ],
      "metadata": {
        "colab": {
          "base_uri": "https://localhost:8080/"
        },
        "id": "lww6DZ1MpN_8",
        "outputId": "f6c6965b-6ff1-405a-e52f-c00d5acbfa78"
      },
      "execution_count": 75,
      "outputs": [
        {
          "output_type": "stream",
          "name": "stdout",
          "text": [
            "B * A =\n",
            "[[ 1 -8]\n",
            " [15  0]]\n"
          ]
        }
      ]
    },
    {
      "cell_type": "code",
      "source": [
        "matrices_mult(b,a)"
      ],
      "metadata": {
        "colab": {
          "base_uri": "https://localhost:8080/"
        },
        "id": "lq2fHORs7d5o",
        "outputId": "07c75792-f284-4149-e333-bc6c2ea573ee"
      },
      "execution_count": 76,
      "outputs": [
        {
          "output_type": "execute_result",
          "data": {
            "text/plain": [
              "array([[ 1., -8.],\n",
              "       [15.,  0.]])"
            ]
          },
          "metadata": {},
          "execution_count": 76
        }
      ]
    },
    {
      "cell_type": "markdown",
      "metadata": {
        "id": "UtjnbCN9TIdA"
      },
      "source": [
        "##__3.__ Из закономерностей сложения и умножения матриц на число можно сделать вывод, что матрицы одного размера образуют линейное пространство. Вычислить линейную комбинацию $3A-2B+4C$ для матриц $A=\\begin{pmatrix}\n",
        "1 & 7\\\\ \n",
        "3 & -6\n",
        "\\end{pmatrix}$, $B=\\begin{pmatrix}\n",
        "0 & 5\\\\ \n",
        "2 & -1\n",
        "\\end{pmatrix}$, $C=\\begin{pmatrix}\n",
        "2 & -4\\\\ \n",
        "1 & 1\n",
        "\\end{pmatrix}.$"
      ]
    },
    {
      "cell_type": "markdown",
      "source": [
        "$ 3 \\cdot \\begin{pmatrix}\n",
        "1 & 7\\\\\n",
        "3 & -6\n",
        "\\end{pmatrix} - \n",
        "2 \\cdot \\begin{pmatrix}\n",
        "0 & 5\\\\\n",
        "2 & -1\n",
        "\\end{pmatrix} +\n",
        "4 \\cdot \\begin{pmatrix}\n",
        "2 & -4\\\\\n",
        "1 & 1\n",
        "\\end{pmatrix} = \n",
        "\\begin{pmatrix}\n",
        "3 & 21\\\\\n",
        "9 & -18\n",
        "\\end{pmatrix} -\n",
        "\\begin{pmatrix}\n",
        "0 & 10\\\\\n",
        "4 & -2\n",
        "\\end{pmatrix} +\n",
        "\\begin{pmatrix}\n",
        "8 & -16\\\\\n",
        "4 & 4\n",
        "\\end{pmatrix} = \n",
        "\\begin{pmatrix}\n",
        "3 & 11\\\\\n",
        "5 & -16\n",
        "\\end{pmatrix} +\n",
        "\\begin{pmatrix}\n",
        "8 & -16\\\\\n",
        "4 & 4\n",
        "\\end{pmatrix} =\n",
        "\\begin{pmatrix}\n",
        "11 & -5\\\\\n",
        "9 & -12\n",
        "\\end{pmatrix} $"
      ],
      "metadata": {
        "id": "LfJJ_HTBUwm4"
      }
    },
    {
      "cell_type": "code",
      "source": [
        "a = np.array([[1,7],[3,-6]])\n",
        "b = np.array([[0,5],[2,-1]])\n",
        "c = np.array([[2,-4],[1,1]])\n",
        "\n",
        "print(f'Матрица A:\\n {a}')\n",
        "print(f'Матрица B:\\n {b}')\n",
        "print(f'Матрица C:\\n {c}')"
      ],
      "metadata": {
        "colab": {
          "base_uri": "https://localhost:8080/"
        },
        "id": "iBn4zGhdXeSw",
        "outputId": "f5c662e3-0201-4de9-9a45-0fe486577e39"
      },
      "execution_count": 77,
      "outputs": [
        {
          "output_type": "stream",
          "name": "stdout",
          "text": [
            "Матрица A:\n",
            " [[ 1  7]\n",
            " [ 3 -6]]\n",
            "Матрица B:\n",
            " [[ 0  5]\n",
            " [ 2 -1]]\n",
            "Матрица C:\n",
            " [[ 2 -4]\n",
            " [ 1  1]]\n"
          ]
        }
      ]
    },
    {
      "cell_type": "code",
      "source": [
        "print(f'3A - 2B + 4C =\\n {3*a-2*b+4*c}')"
      ],
      "metadata": {
        "colab": {
          "base_uri": "https://localhost:8080/"
        },
        "id": "kFTgEwFTaBsJ",
        "outputId": "03664dc3-0c6b-4e9c-85c0-9c2bc1862074"
      },
      "execution_count": 78,
      "outputs": [
        {
          "output_type": "stream",
          "name": "stdout",
          "text": [
            "3A - 2B + 4C =\n",
            " [[ 11  -5]\n",
            " [  9 -12]]\n"
          ]
        }
      ]
    },
    {
      "cell_type": "markdown",
      "metadata": {
        "id": "Xf6nkG3zTImh"
      },
      "source": [
        "##__4.__ Дана матрица $A=\\begin{pmatrix}\n",
        "4 & 1\\\\ \n",
        "5 & -2\\\\ \n",
        "2 & 3\n",
        "\\end{pmatrix}$.\n",
        "Вычислить $AA^{T}$ и $A^{T}A$."
      ]
    },
    {
      "cell_type": "markdown",
      "source": [
        "$A^{T}=\\begin{pmatrix}\n",
        "4 & 5 & 2\\\\ \n",
        "1 & -2 &3\n",
        "\\end{pmatrix}$"
      ],
      "metadata": {
        "id": "AMvNArlVqnQY"
      }
    },
    {
      "cell_type": "markdown",
      "source": [
        "$\\begin{pmatrix}\n",
        "4 & 1\\\\ \n",
        "5 & -2\\\\ \n",
        "2 & 3\n",
        "\\end{pmatrix} \\cdot \\begin{pmatrix}\n",
        "4 & 5 & 2\\\\ \n",
        "1 & -2 & 3\n",
        "\\end{pmatrix}=\\begin{pmatrix}\n",
        "4 \\cdot 4 + 1 \\cdot 1 & 4 \\cdot 5 + 1 \\cdot (-2) & 4 \\cdot 2 + 1 \\cdot 3\\\\ \n",
        "5 \\cdot 4 + (-2) \\cdot 1 & 5 \\cdot 5 + (-2) \\cdot (-2) & 5 \\cdot 2 + (-2) \\cdot 3\\\\ \n",
        "2 \\cdot 4 + 3 \\cdot 1 & 2 \\cdot 5 + 3 \\cdot (-2) & 2 \\cdot 2 + 3 \\cdot 3\n",
        "\\end{pmatrix}=\\begin{pmatrix}\n",
        "17 & 18 & 11\\\\ \n",
        "18 & 29 & 4\\\\ \n",
        "11 & 4 & 13\n",
        "\\end{pmatrix}$"
      ],
      "metadata": {
        "id": "OEwoI4bqt-ew"
      }
    },
    {
      "cell_type": "markdown",
      "source": [
        "$\\begin{pmatrix}\n",
        "4 & 5 & 2\\\\ \n",
        "1 & -2 & 3\n",
        "\\end{pmatrix} \\cdot \\begin{pmatrix}\n",
        "4 & 1\\\\ \n",
        "5 & -2\\\\ \n",
        "2 & 3\n",
        "\\end{pmatrix} = \\begin{pmatrix}\n",
        "4\\cdot4 + 5\\cdot5 +2\\cdot2 & 4\\cdot1 + 5\\cdot(-2) + 2\\cdot3\\\\\n",
        "1\\cdot4 + (-2)\\cdot5 + 3\\cdot3 & 1\\cdot1 + (-2)\\cdot(-2) + 3\\cdot3 \n",
        "\\end{pmatrix} = \\begin{pmatrix}\n",
        "45 & 0\\\\\n",
        "0 & 14\n",
        "\\end{pmatrix}$"
      ],
      "metadata": {
        "id": "DTYhJyB0wJqR"
      }
    },
    {
      "cell_type": "code",
      "source": [
        "a = np.array([[4, 1], [5, -2], [2, 3]])\n",
        "print(f'Матрица А: \\n{a}')\n",
        "print(f'Матрица А^T: \\n{a.T}')"
      ],
      "metadata": {
        "colab": {
          "base_uri": "https://localhost:8080/"
        },
        "id": "xTecocS0rGgv",
        "outputId": "a3468f8e-f6d2-4324-b6c9-22be846a4cb0"
      },
      "execution_count": 79,
      "outputs": [
        {
          "output_type": "stream",
          "name": "stdout",
          "text": [
            "Матрица А: \n",
            "[[ 4  1]\n",
            " [ 5 -2]\n",
            " [ 2  3]]\n",
            "Матрица А^T: \n",
            "[[ 4  5  2]\n",
            " [ 1 -2  3]]\n"
          ]
        }
      ]
    },
    {
      "cell_type": "code",
      "source": [
        "print(f'A*A^T = \\n{a@a.T}')"
      ],
      "metadata": {
        "colab": {
          "base_uri": "https://localhost:8080/"
        },
        "id": "nscPTHrWtdRH",
        "outputId": "3bdfcd9d-b051-4889-e8e4-b9a27caff95d"
      },
      "execution_count": 80,
      "outputs": [
        {
          "output_type": "stream",
          "name": "stdout",
          "text": [
            "A*A^T = \n",
            "[[17 18 11]\n",
            " [18 29  4]\n",
            " [11  4 13]]\n"
          ]
        }
      ]
    },
    {
      "cell_type": "code",
      "source": [
        "matrices_mult(a,a.T)"
      ],
      "metadata": {
        "colab": {
          "base_uri": "https://localhost:8080/"
        },
        "id": "K7FFG9ru7pXS",
        "outputId": "65504f2c-7a3d-4eeb-c722-a37124ac8746"
      },
      "execution_count": 81,
      "outputs": [
        {
          "output_type": "execute_result",
          "data": {
            "text/plain": [
              "array([[17., 18., 11.],\n",
              "       [18., 29.,  4.],\n",
              "       [11.,  4., 13.]])"
            ]
          },
          "metadata": {},
          "execution_count": 81
        }
      ]
    },
    {
      "cell_type": "code",
      "source": [
        "print(f'A^T*A = \\n{a.T@a}')"
      ],
      "metadata": {
        "colab": {
          "base_uri": "https://localhost:8080/"
        },
        "id": "egax3qEnzUR2",
        "outputId": "926f8123-0d01-4b81-a4a2-0d10eb2eba66"
      },
      "execution_count": 82,
      "outputs": [
        {
          "output_type": "stream",
          "name": "stdout",
          "text": [
            "A^T*A = \n",
            "[[45  0]\n",
            " [ 0 14]]\n"
          ]
        }
      ]
    },
    {
      "cell_type": "code",
      "source": [
        "matrices_mult(a.T,a)"
      ],
      "metadata": {
        "colab": {
          "base_uri": "https://localhost:8080/"
        },
        "id": "cGVGnCWM72Mp",
        "outputId": "4ae664b0-a8cb-4394-e748-3e4debfe473d"
      },
      "execution_count": 83,
      "outputs": [
        {
          "output_type": "execute_result",
          "data": {
            "text/plain": [
              "array([[45.,  0.],\n",
              "       [ 0., 14.]])"
            ]
          },
          "metadata": {},
          "execution_count": 83
        }
      ]
    },
    {
      "cell_type": "markdown",
      "metadata": {
        "id": "H3qXQfJ-WtUp"
      },
      "source": [
        "##__1.__ Вычислить определитель:\n",
        "\n",
        "   a) $\\begin{vmatrix}\n",
        "sinx & -cosx\\\\ \n",
        "cosx & sinx\n",
        "\\end{vmatrix} = \n",
        "sin^2 x + cos^2 x = 1$"
      ]
    },
    {
      "cell_type": "markdown",
      "metadata": {
        "id": "Jci2jJlKUZNP"
      },
      "source": [
        "   б) $\\begin{vmatrix}\n",
        "4 & 2 & 3\\\\ \n",
        "0 & 5 & 1\\\\ \n",
        "0 & 0 & 9\n",
        "\\end{vmatrix} = \n",
        "4 \\cdot 5 \\cdot 9 = 180 $"
      ]
    },
    {
      "cell_type": "code",
      "source": [
        "a = np.array([[4,2,3],[0,5,1], [0,0,9]])\n",
        "np.linalg.det(a)"
      ],
      "metadata": {
        "colab": {
          "base_uri": "https://localhost:8080/"
        },
        "id": "0o57GdaMhiyR",
        "outputId": "8466d627-43d9-4bf5-85a3-b5cd1658b7dc"
      },
      "execution_count": 84,
      "outputs": [
        {
          "output_type": "execute_result",
          "data": {
            "text/plain": [
              "180.0"
            ]
          },
          "metadata": {},
          "execution_count": 84
        }
      ]
    },
    {
      "cell_type": "markdown",
      "metadata": {
        "id": "DUIYgj2PUZj5"
      },
      "source": [
        "   в) $\\begin{vmatrix}\n",
        "1 & 2 & 3\\\\ \n",
        "4 & 5 & 6\\\\ \n",
        "7 & 8 & 9\n",
        "\\end{vmatrix} = \n",
        "\\begin{vmatrix}\n",
        "5 & 6\\\\\n",
        "8 & 9\n",
        "\\end{vmatrix} - \n",
        "2 \\cdot \n",
        "\\begin{vmatrix}\n",
        "4 & 6\\\\\n",
        "7 & 9\n",
        "\\end{vmatrix} +\n",
        "3 \\cdot \n",
        "\\begin{vmatrix}\n",
        "4 & 5\\\\\n",
        "7 & 8\n",
        "\\end{vmatrix} = \\\\ \n",
        "= (45 - 48) - 2 \\cdot (36 - 42) + 3 \\cdot (32 - 35) = \n",
        "45 - 48 - 72 + 84 + 96 - 105 = 0 $"
      ]
    },
    {
      "cell_type": "code",
      "source": [
        "a = np.array([[1,2,3],[4,5,6],[7,8,9]])\n",
        "np.linalg.det(a)"
      ],
      "metadata": {
        "colab": {
          "base_uri": "https://localhost:8080/"
        },
        "outputId": "e24aa883-813a-4e8b-9c05-d78f0eefcadd",
        "id": "IeJmRY3QpOVG"
      },
      "execution_count": 85,
      "outputs": [
        {
          "output_type": "execute_result",
          "data": {
            "text/plain": [
              "0.0"
            ]
          },
          "metadata": {},
          "execution_count": 85
        }
      ]
    },
    {
      "cell_type": "markdown",
      "metadata": {
        "id": "9FFuGs3tUZt2"
      },
      "source": [
        "##__2.__ Определитель матрицы $A$ равен $4$. Найти:\n",
        "\n",
        "   а) $det(A^{2}) = 16$;\n",
        "    \n",
        "   б) $det(A^{T}) = 4$;\n",
        "    \n",
        "   в) $det(2A) = 4 \\cdot 2^n$."
      ]
    },
    {
      "cell_type": "markdown",
      "metadata": {
        "id": "L-N-jg5oU_zN"
      },
      "source": [
        "##__3.__  Доказать, что матрица\n",
        "\n",
        "$$\\begin{pmatrix}\n",
        "-2 & 7 & -3\\\\ \n",
        "4 & -14 & 6\\\\ \n",
        "-3 & 7 & 13\n",
        "\\end{pmatrix}$$\n",
        "   \n",
        "вырожденная."
      ]
    },
    {
      "cell_type": "markdown",
      "source": [
        "Первая и вторая строки матрицы линейно зависимы (множитель пропорциональности -2). Согласно свойству 6, определитель такой матрицы равен нулю. По определению: матрица называется вырожденной, если ее определитель равен нулю. Следовательно, данная матрица вырожденная. "
      ],
      "metadata": {
        "id": "GcsaOX6bwJIt"
      }
    },
    {
      "cell_type": "markdown",
      "metadata": {
        "id": "wewkdMEJVAYp"
      },
      "source": [
        "##__4.__ Найти ранг матрицы:\n",
        "\n",
        "   а) $\\begin{pmatrix}\n",
        "1 & 2 & 3\\\\ \n",
        "1 & 1 & 1\\\\ \n",
        "2 & 3 & 4\n",
        "\\end{pmatrix};$"
      ]
    },
    {
      "cell_type": "markdown",
      "source": [
        "Третья строка является суммой первых двух. Первая и вторая строки линейно независимы, следовательно ранг матрицы равен 2. "
      ],
      "metadata": {
        "id": "NkGh1Oi08bGn"
      }
    },
    {
      "cell_type": "code",
      "source": [
        "a = np.array([[1,2,3],[1,1,1],[2,3,4]])\n",
        "print(f'Ранг = {np.linalg.matrix_rank(a)}')"
      ],
      "metadata": {
        "colab": {
          "base_uri": "https://localhost:8080/"
        },
        "id": "C3fK_GpM8yNG",
        "outputId": "f02e59a6-3e44-4495-a302-6506e104dd93"
      },
      "execution_count": 90,
      "outputs": [
        {
          "output_type": "stream",
          "name": "stdout",
          "text": [
            "Ранг = 2\n"
          ]
        }
      ]
    },
    {
      "cell_type": "code",
      "source": [
        "n = a.shape[1]\n",
        "\n",
        "for k in range(n-1):\n",
        "    for i in range (k+1, n):\n",
        "      factor = a[i][k]/a[k][k]\n",
        "      for j in range(k,n):\n",
        "        a[i][j] -= factor*a[k][j]\n",
        "print(a)"
      ],
      "metadata": {
        "colab": {
          "base_uri": "https://localhost:8080/"
        },
        "id": "yhL_n-hwIfxJ",
        "outputId": "a6bef647-48f2-4927-88c8-218d1e3e4b4e"
      },
      "execution_count": 88,
      "outputs": [
        {
          "output_type": "stream",
          "name": "stdout",
          "text": [
            "[[ 1  2  3]\n",
            " [ 0 -1 -2]\n",
            " [ 0  0  0]]\n"
          ]
        }
      ]
    },
    {
      "cell_type": "markdown",
      "metadata": {
        "id": "O6LBdbVkVAgl"
      },
      "source": [
        "   б) $\\begin{pmatrix}\n",
        "0 & 0 & 2 & 1\\\\ \n",
        "0 & 0 & 2 & 2\\\\ \n",
        "0 & 0 & 4 & 3\\\\ \n",
        "2 & 3 & 5 & 6\n",
        "\\end{pmatrix}.$"
      ]
    },
    {
      "cell_type": "markdown",
      "source": [
        "Третья строка является суммой первых двух, ее можно отбросить:\n",
        "\n",
        "$\\begin{pmatrix}\n",
        "0 & 0 & 2 & 1\\\\\n",
        "0 & 0 & 2 & 2\\\\\n",
        "2 & 3 & 5 & 6 \n",
        "\\end{pmatrix}$\n",
        "\n",
        "Поменяем местами вторую и третью строки, затем перенесем последний столбец в начало:\n",
        "\n",
        "$\\begin{pmatrix}\n",
        "1 & 0 & 0 & 2\\\\\n",
        "6 & 2 & 3 & 5\\\\\n",
        "2 & 0 & 0 & 2 \n",
        "\\end{pmatrix}$\n",
        "\n",
        "Вычтем первую строку из второй и третьей, умножив ее на 6 и 2 соответственно:\n",
        "\n",
        "$\\begin{pmatrix}\n",
        "1 & 0 & 0 & 2\\\\\n",
        "0 & 2 & 3 & -7\\\\\n",
        "0 & 0 & 0 & -2 \n",
        "\\end{pmatrix}$\n",
        "\n",
        "Ранг матрицы равен 3.\n"
      ],
      "metadata": {
        "id": "k76FRGmCAnKs"
      }
    },
    {
      "cell_type": "code",
      "source": [
        "a = np.array([[0,0,2,1],[0,0,2,2],[0,0,4,3],[2,3,5,6]], float)\n",
        "print(f'Ранг = {np.linalg.matrix_rank(a)}')"
      ],
      "metadata": {
        "colab": {
          "base_uri": "https://localhost:8080/"
        },
        "outputId": "b6df92d9-8475-4323-a562-b793e00ebf27",
        "id": "jZUVayl49mUb"
      },
      "execution_count": 91,
      "outputs": [
        {
          "output_type": "stream",
          "name": "stdout",
          "text": [
            "Ранг = 3\n"
          ]
        }
      ]
    }
  ]
}