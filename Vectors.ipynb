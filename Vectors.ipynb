{
  "nbformat": 4,
  "nbformat_minor": 0,
  "metadata": {
    "colab": {
      "name": "Vectors.ipynb",
      "provenance": [],
      "collapsed_sections": [],
      "authorship_tag": "ABX9TyNsjngrw5PjxqXtdQi/Tmbr",
      "include_colab_link": true
    },
    "kernelspec": {
      "name": "python3",
      "display_name": "Python 3"
    },
    "language_info": {
      "name": "python"
    }
  },
  "cells": [
    {
      "cell_type": "markdown",
      "metadata": {
        "id": "view-in-github",
        "colab_type": "text"
      },
      "source": [
        "<a href=\"https://colab.research.google.com/github/alina-bogdanovskaya/Linear_Algebra_Feb2022/blob/lesson1/Vectors.ipynb\" target=\"_parent\"><img src=\"https://colab.research.google.com/assets/colab-badge.svg\" alt=\"Open In Colab\"/></a>"
      ]
    },
    {
      "cell_type": "code",
      "execution_count": 5,
      "metadata": {
        "id": "rwBppSAw8bQD"
      },
      "outputs": [],
      "source": [
        "import numpy as np\n",
        "from numpy.linalg import norm"
      ]
    },
    {
      "cell_type": "markdown",
      "metadata": {
        "id": "NaYoffkueD8U"
      },
      "source": [
        "##__1.__ Исследовать на линейную зависимость:\n",
        "\n",
        "$$f_{1}(x)=e^{x}, f_{2}(x)=1, f_{3}(x)=x+1, f_{4}(x)=x-e^{x}.$$\n"
      ]
    },
    {
      "cell_type": "markdown",
      "source": [
        "$ f_{1}(x) + f_{4}(x) + f_{2}(x) - f_{3}(x) = 0 $\n",
        "\n",
        "$ e^x + x - e^x + 1 - x - 1 = 0 $\n",
        "\n",
        "Система линейно зависима."
      ],
      "metadata": {
        "id": "ulY3KlBdwouv"
      }
    },
    {
      "cell_type": "markdown",
      "metadata": {
        "id": "cECfCSANkVqR"
      },
      "source": [
        "##__2.__ Исследовать на линейную зависимость:\n",
        "$$f_{1}(x)=2, f_{2}(x)=x, f_{3}(x)=x^{2}, f_{4}(x)=(x+1)^{2}$$"
      ]
    },
    {
      "cell_type": "markdown",
      "source": [
        "$ f_{4}(x) - f_{3}(x) - \\frac{1}{2} \\cdot f_{1}(x) - 2 \\cdot f_{2}(x) = 0 $\n",
        "\n",
        "$ x^2 + 2x + 1 - x^2 - 1 - 2x = 0 $\n",
        "\n",
        "Система линейно зависима."
      ],
      "metadata": {
        "id": "4U7nPCYuzTbJ"
      }
    },
    {
      "cell_type": "markdown",
      "metadata": {
        "id": "DFrjdtbHkVqS"
      },
      "source": [
        "##__3.__ Найти координаты вектора $x = (2, 3, 5)\\in \\mathbb{R}^{3}$ в базисе $b_{1}=(0, 0, 10)$, $b_{2}=(2, 0, 0)$, $b_{3}=(0, 1, 0)$.\n"
      ]
    },
    {
      "cell_type": "markdown",
      "source": [
        "$ x = \\frac{1}{2} \\cdot b_{1} + b_{2} + 3 \\cdot b_{3} $\n",
        "\n",
        "$ x = (\\frac{1}{2}, 1, 3) $"
      ],
      "metadata": {
        "id": "tiKZIoeW2enj"
      }
    },
    {
      "cell_type": "markdown",
      "metadata": {
        "id": "5la-eVLukVqT"
      },
      "source": [
        "##__4.__ Найти координаты вектора $3x^{2}-2x+2\\in\\mathbb{R}^{3}[x]$:\n",
        "\n",
        "а) в базисе $1$, $x$, $x^{2}$;\n",
        "\n",
        "б) в базисе $x^{2}$, $x-1$, $1$."
      ]
    },
    {
      "cell_type": "markdown",
      "source": [
        "$ а) (2, -2, 3)\\\\\n",
        "\\\\ \n",
        "б) (3, -2, 0) $"
      ],
      "metadata": {
        "id": "1pSanZkg67J5"
      }
    },
    {
      "cell_type": "markdown",
      "metadata": {
        "id": "kQlell_GkVqU"
      },
      "source": [
        "##__5.__ Установить, является ли линейным подпространством:\n",
        "\n",
        "а) совокупность всех векторов трехмерного пространства, у которых по крайней мере одна из первых двух координат равна нулю;\n",
        "    \n",
        "б) все векторы, являющиеся линейными комбинациями данных векторов $\\{u_{1}, u_{2}, \\ldots, u_{n}\\}$."
      ]
    },
    {
      "cell_type": "markdown",
      "source": [
        "а) $ (0,y,z)\\\\\n",
        "(x,0,z)\\\\\n",
        "(0,0,z)  \n",
        "$<br>\n",
        "1. $(0,y_{1},z_{1}) + (x_{2},0,z_{2}) = (x_{2},y_{1},z_{1}+z_{2}) $\n",
        "\n",
        "Ни одна из координат полученного вектора не равна нулю, следовательно совокупность не является линейным подпространством всех векторов данного трехмерного пространства.  "
      ],
      "metadata": {
        "id": "FKmBRYI0C4hH"
      }
    },
    {
      "cell_type": "markdown",
      "source": [
        "б) $ x = \\lambda_{1}u_{1} + \\lambda_{2}u_{2} + \\ldots + \\lambda_{n}u_{n}$ \n",
        "\n",
        "1. $ a = \\alpha_{1}u_{1} + \\alpha_{2}u_{2} + \\ldots + \\alpha_{n}u_{n}\\\\\n",
        "b = \\beta_{1}u_{1} + \\beta_{2}u_{2} + \\ldots + \\beta_{n}u_{n}\\\\\n",
        "a + b = \\alpha_{1}u_{1} + \\beta_{1}u_{1} + \\alpha_{2}u_{2} + \\beta_{2}u_{2} + \\ldots + \\alpha_{n}u_{n} + \\beta_{n}u_{n} = u_{1}(\\alpha_{1} + \\beta_{1}) + u_{2}(\\alpha_{2} + \\beta_{2}) + \\ldots + u_{n}(\\alpha_{n} + \\beta_{n})$\n",
        "\n",
        "2. $ \\xi \\cdot x = \\xi\\lambda_{1}u_{1} + \\xi\\lambda_{2}u_{2} + \\ldots + \\xi\\lambda_{n}u_{n}$\n",
        "\n",
        "Полученные векторы принадлежат к виду $(\\lambda_{1}u_{1} + \\lambda_{2}u_{2} + \\ldots + \\lambda_{n}u_{n})$, то есть совокупность всех линейных комбинаций исходных векторов является подпространством указанного пространства. "
      ],
      "metadata": {
        "id": "wnC2gnVlGJfT"
      }
    },
    {
      "cell_type": "markdown",
      "metadata": {
        "id": "Wl9hH1nF9OiQ"
      },
      "source": [
        "##__1.__ Найти скалярное произведение векторов $x, y \\in \\mathbb{R}$:<br>\n",
        "а) $x=(0,-3, 6),~y=(-4, 7, 9);$<br>\n",
        "б) $x=(7, -4, 0, 1),~y=(-3, 1, 11, 2).$"
      ]
    },
    {
      "cell_type": "markdown",
      "source": [
        "а) $0 \\cdot (-4) + (-3) \\cdot 7 + 6 \\cdot 9 = 54 - 21 = 33 $"
      ],
      "metadata": {
        "id": "lDLeJhs_8-Q7"
      }
    },
    {
      "cell_type": "code",
      "source": [
        "x = np.array([0,-3,6])\n",
        "y = np.array([-4,7,9])\n",
        "\n",
        "print(f'Скалярное произведение x и y: \\n {x@y}')"
      ],
      "metadata": {
        "colab": {
          "base_uri": "https://localhost:8080/"
        },
        "id": "HgswhfAF9t7S",
        "outputId": "6e1813a1-81a2-4618-821c-b1da4cf61a9d"
      },
      "execution_count": 6,
      "outputs": [
        {
          "output_type": "stream",
          "name": "stdout",
          "text": [
            "Скалярное произведение x и y: \n",
            " 33\n"
          ]
        }
      ]
    },
    {
      "cell_type": "markdown",
      "source": [
        "б) $7 \\cdot (-3) + (-4) \\cdot 1 + 0 \\cdot 11 + 1 \\cdot 2 = -21 - 4 + 2 = -23  $"
      ],
      "metadata": {
        "id": "EZBntis1-S8Q"
      }
    },
    {
      "cell_type": "code",
      "source": [
        "x = np.array([7,-4,0,1])\n",
        "y = np.array([-3,1,11,2])\n",
        "\n",
        "print(f'Скалярное произведение x и y: \\n {x@y}')"
      ],
      "metadata": {
        "colab": {
          "base_uri": "https://localhost:8080/"
        },
        "outputId": "c1348cfa-4770-4ae6-f2d5-7e06ffad3b9b",
        "id": "1xmnQa34-7Q9"
      },
      "execution_count": 7,
      "outputs": [
        {
          "output_type": "stream",
          "name": "stdout",
          "text": [
            "Скалярное произведение x и y: \n",
            " -23\n"
          ]
        }
      ]
    },
    {
      "cell_type": "markdown",
      "metadata": {
        "id": "_rBCU_Ar9PDw"
      },
      "source": [
        "##__2.__ Найти нормы векторов $(4, 2, 4)$ и $(12, 3, 4)$ и угол между ними."
      ]
    },
    {
      "cell_type": "markdown",
      "source": [
        "$\\left\\|a\\right\\|_{2} = \\sqrt{4^2 + 2^2 + 4^2}= \\sqrt{16 + 4 + 16} = \\sqrt{36} = 6\\\\\n",
        "\\left\\|b\\right\\|_{2} = \\sqrt{12^2 + 3^2 + 4^2}= \\sqrt{144 + 9 + 16} = \\sqrt{169} = 13\\\\\n",
        "a \\cdot b = 4 \\cdot 12 + 2 \\cdot 3 + 4 \\cdot 4 = 48 + 6 + 16 = 70$\n",
        "\n",
        "\n",
        "$cos \\alpha = \\frac{70}{6 \\cdot 13} = \\frac{70}{78} = \\frac{35}{39} \\approx 0.897\\\\ \n",
        "\\alpha \\approx 0.457 \\approx 26.18\\% $\n"
      ],
      "metadata": {
        "id": "3X-Z9nDfFnQA"
      }
    },
    {
      "cell_type": "code",
      "source": [
        "a = np.array([4,2,4])\n",
        "b = np.array([12,3,4])"
      ],
      "metadata": {
        "id": "Zo8hzEDPCuYV"
      },
      "execution_count": 8,
      "outputs": []
    },
    {
      "cell_type": "code",
      "source": [
        "print(f'Евклидова норма вектора a: \\n {norm(a, ord=2)}')"
      ],
      "metadata": {
        "colab": {
          "base_uri": "https://localhost:8080/"
        },
        "id": "e4mo6L-fDsjF",
        "outputId": "7d93d86b-d11a-4c92-9deb-d816fe99f693"
      },
      "execution_count": 9,
      "outputs": [
        {
          "output_type": "stream",
          "name": "stdout",
          "text": [
            "Евклидова норма вектора a: \n",
            " 6.0\n"
          ]
        }
      ]
    },
    {
      "cell_type": "code",
      "source": [
        "print(f'Евклидова норма вектора b: \\n {norm(b, ord=2)}')"
      ],
      "metadata": {
        "colab": {
          "base_uri": "https://localhost:8080/"
        },
        "outputId": "50d83eaf-6d84-4362-a9cc-cec9b80c827d",
        "id": "7DPzbBvPD_lp"
      },
      "execution_count": 10,
      "outputs": [
        {
          "output_type": "stream",
          "name": "stdout",
          "text": [
            "Евклидова норма вектора b: \n",
            " 13.0\n"
          ]
        }
      ]
    },
    {
      "cell_type": "code",
      "source": [
        "print(f'Скалярное произведение a и b: \\n {a@b}')"
      ],
      "metadata": {
        "colab": {
          "base_uri": "https://localhost:8080/"
        },
        "id": "kL-3dPxNECXL",
        "outputId": "7fbd47cc-3be9-4a4f-c56f-667faa094430"
      },
      "execution_count": 11,
      "outputs": [
        {
          "output_type": "stream",
          "name": "stdout",
          "text": [
            "Скалярное произведение a и b: \n",
            " 70\n"
          ]
        }
      ]
    },
    {
      "cell_type": "code",
      "source": [
        "alpha = np.arccos(70/78)\n",
        "print(f'Угол между векторами составляет: \\n {(180 * alpha)/np.pi :.2f}%')"
      ],
      "metadata": {
        "colab": {
          "base_uri": "https://localhost:8080/"
        },
        "id": "ayg7j6FvENJI",
        "outputId": "06c7574a-8494-41aa-d038-b6402e8d6835"
      },
      "execution_count": 12,
      "outputs": [
        {
          "output_type": "stream",
          "name": "stdout",
          "text": [
            "Угол между векторами составляет: \n",
            " 26.18%\n"
          ]
        }
      ]
    },
    {
      "cell_type": "markdown",
      "metadata": {
        "id": "81d4BnNXc7cy"
      },
      "source": [
        "##__3.__ Будет ли линейное пространство евклидовым, если за скалярное произведение принять:<br>\n",
        "а) произведение длин векторов;<br>\n",
        "б) утроенное обычное скалярное произведение векторов?<br>"
      ]
    },
    {
      "cell_type": "markdown",
      "source": [
        "Рассмотрим двумерное пространство и проверим, выполняются ли в нем аксиомы, позволяющие считать пространство евклидовым. "
      ],
      "metadata": {
        "id": "ogAI01JrUs2G"
      }
    },
    {
      "cell_type": "markdown",
      "source": [
        "__а)__\n",
        "1. $(x,y) = \\sqrt{x_{1}^2 + x_{2}^2} \\cdot \\sqrt{y_{1}^2 + y_{2}^2}\\\\ \n",
        "(y,x) = \\sqrt{y_{1}^2 + y_{2}^2} \\cdot \\sqrt{x_{1}^2 + x_{2}^2}$\n",
        "\n",
        "По закону комутативности первая аксиома верна.\n",
        "\n",
        "2. $(\\lambda x, y) =  \\lambda \\cdot \\sqrt{x_{1}^2 + x_{2}^2} \\cdot \\sqrt{y_{1}^2 + y_{2}^2}$ \n",
        "\n",
        "Вторая аксиома верна.\n",
        "\n",
        "3. $(a + b, y) = \\sqrt{(a_{1} + b_{1})^2 + (a_{2} + b_{2})^2} \\cdot \\sqrt{y_{1}^2 + y_{2}^2} \\\\ \n",
        "(a,y) + (b,Y) = \\sqrt{a_{1}^2 + a_{2}^2} \\cdot \\sqrt{y_{1}^2 + y_{2}^2} + \\sqrt{b_{1}^2 + b_{2}^2} \\cdot \\sqrt{y_{1}^2 + y_{2}^2} = \\sqrt{y_{1}^2 + y_{2}^2} \\cdot (\\sqrt{a_{1}^2 + a_{2}^2} + \\sqrt{b_{1}^2 + b_{2}^2})\\\\\n",
        "\\sqrt{(a_{1} + b_{1})^2 + (a_{2} + b_{2})^2} \\neq \\sqrt{a_{1}^2 + a_{2}^2} + \\sqrt{b_{1}^2 + b_{2}^2}$\n",
        "\n",
        "Третья аксиома не верна, следовательно линейное пространство не является евклидовым."
      ],
      "metadata": {
        "id": "9Y9fm026IPw0"
      }
    },
    {
      "cell_type": "markdown",
      "source": [
        "__б)__\n",
        "1. $ 3(x,y) = 3(x_{1} \\cdot y_{1} + x_{2} \\cdot y_{2})\\\\\n",
        "3(y,x) = 3(y_{1} \\cdot x_{1} + y_{2} \\cdot x_{2}) $\n",
        "\n",
        "По закону комутативности первая аксиома верна.\n",
        "\n",
        "2. $3(\\lambda x, y) = 3(\\lambda x_{1} \\cdot y_{1} + \\lambda x_{2} \\cdot y_{2}) = 3\\lambda (x_{1} \\cdot y_{1} + x_{2} \\cdot y_{2})$\n",
        "\n",
        "Вторая аксиома верна.\n",
        "\n",
        "3. $3(a+b, y) = 3((a_{1} + b_{1}) \\cdot y_{1} + (a_{2} + b_{2}) \\cdot y_{2})\\\\\n",
        "3(a,y) + 3(b,y) = 3(a_{1} \\cdot y_{1} + a_{2} \\cdot y_{2}) + 3(b_{1} \\cdot y_{1} + b_{2} \\cdot y_{2}) = 3(a_{1} \\cdot y_{1} + a_{2} \\cdot y_{2} + b_{1} \\cdot y_{1} + b_{2} \\cdot y_{2}) = 3(y_{1}\\cdot(a_{1} + b_{1}) + y_{2}\\cdot(a_{2} + b_{2}))$\n",
        "\n",
        "Третья аксиома верна.\n",
        "\n",
        "4. $3(x,x) = 3(x_{1} \\cdot x_{1} + x_{2} \\cdot x_{2}) = 3(x_{1}^2 + x_{2}^2)\\\\\n",
        "3(x_{1}^2 + x_{2}^2) > 0, x \\neq 0\\\\\n",
        "3(x_{1}^2 + x_{2}^2) = 0, x = 0$\n",
        "\n",
        "Четвертая аксиома верна. Линейное пространство является евклидовым."
      ],
      "metadata": {
        "id": "95-vS1pcVOVm"
      }
    },
    {
      "cell_type": "markdown",
      "metadata": {
        "id": "MxiNsstO9Phw"
      },
      "source": [
        "##__4.__ Какие из нижеперечисленных векторов образуют ортонормированный базис в линейном пространстве $\\mathbb{R}^{3}$:<br>\n",
        "а) $(1,0,0),(0,0,1);$ <br>\n",
        "б) $(1/\\sqrt{2},-1/\\sqrt{2},0),(1/\\sqrt{2},1/\\sqrt{2},0), (0,0,1);$<br>\n",
        "в) $(1/2, -1/2, 0), (0, 1/2, 1/2), (0,0,1);$<br>\n",
        "г) $(1,0,0),(0,1,0),(0,0,1)?$ \n"
      ]
    },
    {
      "cell_type": "markdown",
      "source": [
        "а) Комбинация из двух векторов не может составлять базис в трехмерном линейном пространстве."
      ],
      "metadata": {
        "id": "iRfEZYgiWCl6"
      }
    },
    {
      "cell_type": "markdown",
      "source": [
        "б) $ a_{1} = \\frac{1}{\\sqrt{2}}, - \\frac{1}{\\sqrt{2}}, 0 \\\\\n",
        "a_{2} = \\frac{1}{\\sqrt{2}}, \\frac{1}{\\sqrt{2}}, 0 \\\\\n",
        "a_{3} = 0,0,1$\n",
        "\n",
        "1. $ a_{1} \\cdot a_{2} = \\frac{1}{\\sqrt{2}} \\cdot \\frac{1}{\\sqrt{2}} + (-\\frac{1}{\\sqrt{2}}) \\cdot \\frac{1}{\\sqrt{2}} + 0 = \\frac{1}{2} - \\frac{1}{2} + 0 = 0\\\\\n",
        "a_{1} \\cdot a_{3} = 0 + 0 + 0 = 0\\\\\n",
        "a_{2} \\cdot a_{3} = 0 + 0 + 0 = 0$\n",
        "\n",
        "2. $ a_{1} \\cdot a_{1} = \\frac{1}{\\sqrt{2}} \\cdot \\frac{1}{\\sqrt{2}} + (-\\frac{1}{\\sqrt{2}}) \\cdot (-\\frac{1}{\\sqrt{2}}) + 0 = \\frac{1}{2} + \\frac{1}{2} + 0 = 1 \\\\\n",
        "a_{2} \\cdot a_{2} = \\frac{1}{\\sqrt{2}} \\cdot \\frac{1}{\\sqrt{2}} + \\frac{1}{\\sqrt{2}} \\cdot \\frac{1}{\\sqrt{2}} + 0 = \\frac{1}{2} + \\frac{1}{2} + 0 = 1\\\\\n",
        "a_{3} \\cdot a_{3} = 0 + 0 + 1 = 1$\n",
        "\n",
        "Оба условия ортонормированности выполнены, следовательно векторы образуют ортонормированный базис в линейном пространстве $\\mathbb{R}^{3}$. "
      ],
      "metadata": {
        "id": "k7YVciiEWzAi"
      }
    },
    {
      "cell_type": "markdown",
      "source": [
        "в) $ a_{1} = \\frac{1}{2}, -\\frac{1}{2}, 0 \\\\\n",
        "a_{2} = 0, \\frac{1}{2}, \\frac{1}{2} \\\\\n",
        "a_{3} = 0,0,1$\n",
        "\n",
        "1. $ a_{1} \\cdot a_{2} = 0 + (-\\frac{1}{2}) \\cdot \\frac{1}{2} + 0 = -1 $\n",
        "\n",
        "Условие ортонормированности нарушено, векторы не образуют ортонормированный базис."
      ],
      "metadata": {
        "id": "W4EGWyxYfGWj"
      }
    },
    {
      "cell_type": "markdown",
      "source": [
        "г) $ a_{1} = 1, 0, 0 \\\\\n",
        "a_{2} = 0, 1, 0\\\\\n",
        "a_{3} = 0, 0, 1$\n",
        "\n",
        "1. $ a_{1} \\cdot a_{2} = 0 + 0 + 0 = 0 \\\\\n",
        "a_{1} \\cdot a_{3} = 0 + 0 + 0 = 0 \\\\\n",
        "a_{2} \\cdot a_{3} = 0 + 0 + 0 = 0$\n",
        "\n",
        "2. $ a_{1} \\cdot a_{1} = 1 + 0 + 0 = 1 \\\\\n",
        "a_{2} \\cdot a_{2} = 0 + 1 + 0 = 1 \\\\\n",
        "a_{3} \\cdot a_{3} = 0 + 0 + 1 = 1$\n",
        "\n",
        "Оба условия ортонормированности выполнены, следовательно векторы образуют ортонормированный базис в линейном пространстве $\\mathbb{R}^{3}$. "
      ],
      "metadata": {
        "id": "VZHcs8fJh7qc"
      }
    }
  ]
}