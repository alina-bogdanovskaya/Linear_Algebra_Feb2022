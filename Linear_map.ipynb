{
  "nbformat": 4,
  "nbformat_minor": 0,
  "metadata": {
    "colab": {
      "name": "Linear_map.ipynb",
      "provenance": [],
      "collapsed_sections": [],
      "authorship_tag": "ABX9TyPjCiYuU7FfoNH5copW0IcX",
      "include_colab_link": true
    },
    "kernelspec": {
      "name": "python3",
      "display_name": "Python 3"
    },
    "language_info": {
      "name": "python"
    }
  },
  "cells": [
    {
      "cell_type": "markdown",
      "metadata": {
        "id": "view-in-github",
        "colab_type": "text"
      },
      "source": [
        "<a href=\"https://colab.research.google.com/github/alina-bogdanovskaya/Linear_Algebra_Feb2022/blob/lesson3/Linear_map.ipynb\" target=\"_parent\"><img src=\"https://colab.research.google.com/assets/colab-badge.svg\" alt=\"Open In Colab\"/></a>"
      ]
    },
    {
      "cell_type": "code",
      "execution_count": 1,
      "metadata": {
        "id": "cBFpVJaiGAfq"
      },
      "outputs": [],
      "source": [
        "import numpy as np \n",
        "import matplotlib.pyplot as plt\n"
      ]
    },
    {
      "cell_type": "markdown",
      "source": [
        "##__1.__ Найти собственные векторы и собственные значения для линейного оператора, заданного матрицей\n",
        "\n",
        "$$A=\\begin{pmatrix}\n",
        "-1 & -6\\\\ \n",
        "2 & 6\n",
        "\\end{pmatrix}.$$"
      ],
      "metadata": {
        "id": "d9C6vL7JGUae"
      }
    },
    {
      "cell_type": "markdown",
      "source": [
        "$\\begin{vmatrix}\n",
        "-1-\\lambda & -6\\\\\n",
        "2 & 6-\\lambda \n",
        "\\end{vmatrix} = 0$\n",
        "\n",
        "$(-1-\\lambda)\\cdot(6-\\lambda) + 12 = 0$\n",
        "\n",
        "$-6 -6\\lambda + \\lambda + \\lambda^2 = 0$\n",
        "\n",
        "$\\lambda^2 - 5\\lambda + 6 = 0$\n",
        "\n",
        "$D = (-5)^2 - 4\\cdot6 = 25 - 24 = 1$\n",
        "\n",
        "$\\lambda_{1} = \\frac{5 - \\sqrt{1}}{2} = 2$\n",
        "\n",
        "$\\lambda_{2} = \\frac{5 + \\sqrt{1}}{2} = 3$\n",
        "\n",
        "$\\begin{pmatrix}\n",
        "-1 & -6\\\\\n",
        "2 & 6\n",
        "\\end{pmatrix}⋅\n",
        "\\begin{pmatrix}\n",
        "x_{1}\\\\\n",
        "x_{2}\n",
        "\\end{pmatrix} = 2 ⋅\n",
        "\\begin{pmatrix}\n",
        "x_{1}\\\\\n",
        "x_{2}\n",
        "\\end{pmatrix}$\n",
        "\n",
        "$\\begin{cases}\n",
        "-x_{1}-6x_{2}= 2x_{1}\\\\\n",
        "2x_{1}+6x_{2}= 2x_{2}\n",
        "\\end{cases}\\\\\n",
        "\\begin{cases}\n",
        "-3x_{1}-6x_{2}= 0\\\\\n",
        "2x_{1}+4x_{2}= 0\n",
        "\\end{cases}$\n",
        "\n",
        "$x_{1} = -2x_{2}$\n",
        "\n",
        "$\\begin{pmatrix}\n",
        "-1 & -6\\\\\n",
        "2 & 6\n",
        "\\end{pmatrix}⋅\n",
        "\\begin{pmatrix}\n",
        "x_{1}\\\\\n",
        "x_{2}\n",
        "\\end{pmatrix} = 3 ⋅\n",
        "\\begin{pmatrix}\n",
        "x_{1}\\\\\n",
        "x_{2}\n",
        "\\end{pmatrix}$\n",
        "\n",
        "$\\begin{cases}\n",
        "-x_{1}-6x_{2}= 3x_{1}\\\\\n",
        "2x_{1}+6x_{2}= 3x_{2}\n",
        "\\end{cases}\\\\\n",
        "\\begin{cases}\n",
        "-4x_{1}-6x_{2}= 0\\\\\n",
        "2x_{1}+3x_{2}= 0\n",
        "\\end{cases}$\n",
        "\n",
        "$x_{1} = -\\frac{3}{2}x_{2}$\n",
        "\n",
        "Собственные значения: 2; 3\n",
        "\n",
        "Собственные векторы:<br>\n",
        "x = (-2, 1)<br>\n",
        "x = (-$\\frac{3}{2}$, 1)"
      ],
      "metadata": {
        "id": "SYEl4Ud63HDC"
      }
    },
    {
      "cell_type": "code",
      "source": [
        "a = np.array([[-1, -6], [2, 6]])\n",
        "w, v = np.linalg.eig(a)\n",
        "print(w)\n",
        "print(v)"
      ],
      "metadata": {
        "colab": {
          "base_uri": "https://localhost:8080/"
        },
        "id": "6RwB9euB1mhb",
        "outputId": "9211cc52-9c9c-4f89-9860-d20e3e458892"
      },
      "execution_count": 2,
      "outputs": [
        {
          "output_type": "stream",
          "name": "stdout",
          "text": [
            "[2. 3.]\n",
            "[[-0.89442719  0.83205029]\n",
            " [ 0.4472136  -0.5547002 ]]\n"
          ]
        }
      ]
    },
    {
      "cell_type": "code",
      "source": [
        "v[1,0]*-2"
      ],
      "metadata": {
        "colab": {
          "base_uri": "https://localhost:8080/"
        },
        "id": "6gbGitPo7Sgu",
        "outputId": "6874f1e5-4122-4ebf-d79a-cec48090b474"
      },
      "execution_count": 3,
      "outputs": [
        {
          "output_type": "execute_result",
          "data": {
            "text/plain": [
              "-0.8944271909999159"
            ]
          },
          "metadata": {},
          "execution_count": 3
        }
      ]
    },
    {
      "cell_type": "code",
      "source": [
        "v[1,1]*-3/2"
      ],
      "metadata": {
        "colab": {
          "base_uri": "https://localhost:8080/"
        },
        "id": "36X_mgsL7fwv",
        "outputId": "5460d978-d54e-41e3-a60e-f3f9cbddedf5"
      },
      "execution_count": 4,
      "outputs": [
        {
          "output_type": "execute_result",
          "data": {
            "text/plain": [
              "0.8320502943378438"
            ]
          },
          "metadata": {},
          "execution_count": 4
        }
      ]
    },
    {
      "cell_type": "markdown",
      "metadata": {
        "id": "sNOgFRFrCG2S"
      },
      "source": [
        "##__2.__ Дан оператор поворота на 180 градусов, задаваемый матрицей \n",
        "\n",
        "$$A=\\begin{pmatrix}\n",
        "-1 & 0\\\\ \n",
        "0 & -1\n",
        "\\end{pmatrix}.$$\n",
        "\n",
        "##Показать, что __любой__ вектор является для него собственным.\n"
      ]
    },
    {
      "cell_type": "markdown",
      "source": [
        "$\\begin{vmatrix}\n",
        "-1-\\lambda & 0\\\\\n",
        "0 & -1-\\lambda\n",
        "\\end{vmatrix}=0$\n",
        "\n",
        "$(-1-\\lambda)^2=0 \\Rightarrow \\lambda=-1$\n",
        "\n",
        "$\\begin{pmatrix}\n",
        "-1 & 0\\\\\n",
        "0 & -1\n",
        "\\end{pmatrix}⋅\n",
        "\\begin{pmatrix}\n",
        "x_{1}\\\\\n",
        "x_{2}\n",
        "\\end{pmatrix} = \n",
        "-1 \\cdot \\begin{pmatrix}\n",
        "x_{1}\\\\\n",
        "x_{2}\n",
        "\\end{pmatrix}$\n",
        "\n",
        "$\\begin{cases}\n",
        "-x_{1} = -x_{1}\\\\\n",
        "-x_{2} = -x_{2}\n",
        "\\end{cases}$\n",
        "\n",
        "$\\begin{cases}\n",
        "x_{1} = x_{1}\\\\\n",
        "x_{2} = x_{2}\n",
        "\\end{cases}$\n",
        "\n",
        "$x_{1}$ и $x_{2}$ могут принимать любые значения, следовательно любой вектор является собственным для указанного оператора поворота."
      ],
      "metadata": {
        "id": "sWocqSIfFA9L"
      }
    },
    {
      "cell_type": "code",
      "metadata": {
        "id": "75Ja58HoCGzz",
        "colab": {
          "base_uri": "https://localhost:8080/",
          "height": 276
        },
        "outputId": "b7668920-44e2-41ef-b85b-c644749a0c24"
      },
      "source": [
        "fig = plt.figure()\n",
        "ax = fig.add_subplot(1,1,1)\n",
        "\n",
        "ax.spines['left'].set_position('zero')\n",
        "ax.spines['bottom'].set_position('zero')\n",
        "\n",
        "ax.spines['right'].set_color('none')\n",
        "ax.spines['top'].set_color('none')\n",
        "\n",
        "plt.axis('scaled')\n",
        "plt.xlim(-2, 2)\n",
        "plt.ylim(-2, 2)\n",
        "\n",
        "ax.arrow(0, 0, 0, -1, head_width=0.15, head_length=0.2, length_includes_head=True, facecolor='black')\n",
        "ax.arrow(0, 0, -1, 0, head_width=0.15, head_length=0.2, length_includes_head=True, facecolor='black')\n",
        "ax.annotate(\"e1\", xy=(-0.8, 0.2))\n",
        "ax.annotate(\"e2\", xy=(0.2, -0.8))"
      ],
      "execution_count": 5,
      "outputs": [
        {
          "output_type": "execute_result",
          "data": {
            "text/plain": [
              "Text(0.2, -0.8, 'e2')"
            ]
          },
          "metadata": {},
          "execution_count": 5
        },
        {
          "output_type": "display_data",
          "data": {
            "image/png": "[encoded data removed]",
            "text/plain": [
              "<Figure size 432x288 with 1 Axes>"
            ]
          },
          "metadata": {
            "needs_background": "light"
          }
        }
      ]
    },
    {
      "cell_type": "markdown",
      "source": [
        "##__3.__ Пусть линейный оператор задан матрицей\n",
        "\n",
        "$$A=\\begin{pmatrix}\n",
        "1 & 1\\\\ \n",
        "-1 & 3\n",
        "\\end{pmatrix}.$$\n",
        "\n",
        "##Установить, является ли вектор $x=(1,1)$ собственным вектором этого линейного оператора.\n",
        "\n"
      ],
      "metadata": {
        "id": "lUQGAy11GpNs"
      }
    },
    {
      "cell_type": "markdown",
      "source": [
        "$\\begin{pmatrix}\n",
        "1 & 1\\\\\n",
        "-1 & 3\n",
        "\\end{pmatrix}⋅\n",
        "\\begin{pmatrix}\n",
        "1\\\\\n",
        "1\n",
        "\\end{pmatrix} = \n",
        "\\lambda \\cdot \n",
        "\\begin{pmatrix}\n",
        "1\\\\\n",
        "1\n",
        "\\end{pmatrix}$\n",
        "\n",
        "$\\begin{cases}1 + 1 = \\lambda\\\\\n",
        "-1 + 3 = \\lambda\n",
        "\\end{cases} \\Rightarrow \\lambda = 2$\n",
        "\n",
        "Вектор $x=(1,1)$ является собственным для заданного линейного оператора."
      ],
      "metadata": {
        "id": "S7pK5rA9HThz"
      }
    },
    {
      "cell_type": "markdown",
      "metadata": {
        "id": "fZvLaIPW0JY1"
      },
      "source": [
        "##__4.__ Пусть линейный оператор задан матрицей\n",
        "\n",
        "$$A=\\begin{pmatrix} 0 & 3 & 0\\\\ 3 & 0 & 0\\\\ 0 & 0 & 3 \\end{pmatrix}.$$\n",
        "\n",
        "##Установить, является ли вектор $x=(3, -3, -4)$ собственным вектором этого линейного оператора."
      ]
    },
    {
      "cell_type": "markdown",
      "source": [
        "$\\begin{pmatrix}\n",
        "0 & 3 & 0\\\\ \n",
        "3 & 0 & 0\\\\\n",
        "0 & 0 & 3\n",
        "\\end{pmatrix}\\cdot\n",
        "\\begin{pmatrix}\n",
        "3\\\\\n",
        "-3\\\\\n",
        "-4\n",
        "\\end{pmatrix}=\n",
        "\\lambda\\cdot\n",
        "\\begin{pmatrix}\n",
        "3\\\\\n",
        "-3\\\\\n",
        "-4\n",
        "\\end{pmatrix}\n",
        "$\n",
        "\n",
        "$\\begin{cases}\n",
        "0 - 9 + 0 =3\\lambda\\\\ \n",
        "-9 + 0 + 0 =-3\\lambda\\\\\n",
        "0 + 0 + 12 =-4\\lambda\n",
        "\\end{cases}\n",
        "\\Rightarrow\n",
        "\\lambda=-3$\n",
        "\n",
        "Вектор $x=(3,-3,-4)$ является собственным для заданного линейного оператора."
      ],
      "metadata": {
        "id": "yt_woo2NIo19"
      }
    }
  ]
}