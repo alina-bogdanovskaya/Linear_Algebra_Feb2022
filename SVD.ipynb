{
  "nbformat": 4,
  "nbformat_minor": 0,
  "metadata": {
    "colab": {
      "name": "SVD.ipynb",
      "provenance": [],
      "authorship_tag": "ABX9TyPdDwHAjfasw9uYTltAwu8o",
      "include_colab_link": true
    },
    "kernelspec": {
      "name": "python3",
      "display_name": "Python 3"
    },
    "language_info": {
      "name": "python"
    }
  },
  "cells": [
    {
      "cell_type": "markdown",
      "metadata": {
        "id": "view-in-github",
        "colab_type": "text"
      },
      "source": [
        "<a href=\"https://colab.research.google.com/github/alina-bogdanovskaya/Linear_Algebra_Feb2022/blob/lesson5/SVD.ipynb\" target=\"_parent\"><img src=\"https://colab.research.google.com/assets/colab-badge.svg\" alt=\"Open In Colab\"/></a>"
      ]
    },
    {
      "cell_type": "code",
      "execution_count": 1,
      "metadata": {
        "id": "n9_pjy2R_2sI"
      },
      "outputs": [],
      "source": [
        "import numpy as np"
      ]
    },
    {
      "cell_type": "markdown",
      "metadata": {
        "id": "aoo5c_Q0Czsp"
      },
      "source": [
        "##__1.__ Найти с помощью NumPy SVD для матрицы\n",
        "\n",
        "$$\\begin{pmatrix}\n",
        "1 & 2 & 0\\\\ \n",
        "0 & 0 & 5\\\\ \n",
        "3 & -4 & 2\\\\ \n",
        "1 & 6 & 5\\\\ \n",
        "0 & 1 & 0\n",
        "\\end{pmatrix}.$$"
      ]
    },
    {
      "cell_type": "code",
      "source": [
        "a = np.array([[1,2,0],[0,0,5],[3,-4,2],[1,6,5],[0,1,0]],float)"
      ],
      "metadata": {
        "id": "uY77XUAzI2hK"
      },
      "execution_count": 14,
      "outputs": []
    },
    {
      "cell_type": "code",
      "source": [
        "U,s,W = np.linalg.svd(a)\n",
        "U"
      ],
      "metadata": {
        "colab": {
          "base_uri": "https://localhost:8080/"
        },
        "id": "rXkcxTnLJM7j",
        "outputId": "448275e7-5a54-4525-f221-898565559020"
      },
      "execution_count": 15,
      "outputs": [
        {
          "output_type": "execute_result",
          "data": {
            "text/plain": [
              "array([[ 0.17056501,  0.15680918, -0.53077508, -0.79905375, -0.16158397],\n",
              "       [ 0.39287016, -0.52933945,  0.6134793 , -0.43375771,  0.03082495],\n",
              "       [-0.14366152, -0.82449256, -0.52379105,  0.14049848,  0.07400343],\n",
              "       [ 0.88843702,  0.06074346, -0.24655277,  0.37755832, -0.06042632],\n",
              "       [ 0.08125046,  0.10831843, -0.08231425, -0.10524851,  0.98173958]])"
            ]
          },
          "metadata": {},
          "execution_count": 15
        }
      ]
    },
    {
      "cell_type": "code",
      "source": [
        "U.T@U"
      ],
      "metadata": {
        "colab": {
          "base_uri": "https://localhost:8080/"
        },
        "id": "L77EGD9xJ5xe",
        "outputId": "819aff70-de87-4b0f-9fc5-ac10aec3415b"
      },
      "execution_count": 16,
      "outputs": [
        {
          "output_type": "execute_result",
          "data": {
            "text/plain": [
              "array([[ 1.00000000e+00,  3.19674802e-16, -3.99355622e-16,\n",
              "         1.35663262e-17, -8.83091830e-18],\n",
              "       [ 3.19674802e-16,  1.00000000e+00,  3.63628026e-16,\n",
              "         7.29367646e-17,  3.15830273e-17],\n",
              "       [-3.99355622e-16,  3.63628026e-16,  1.00000000e+00,\n",
              "        -1.56755518e-16, -7.11991378e-17],\n",
              "       [ 1.35663262e-17,  7.29367646e-17, -1.56755518e-16,\n",
              "         1.00000000e+00, -2.63859021e-17],\n",
              "       [-8.83091830e-18,  3.15830273e-17, -7.11991378e-17,\n",
              "        -2.63859021e-17,  1.00000000e+00]])"
            ]
          },
          "metadata": {},
          "execution_count": 16
        }
      ]
    },
    {
      "cell_type": "code",
      "source": [
        "V = W.T\n",
        "V"
      ],
      "metadata": {
        "colab": {
          "base_uri": "https://localhost:8080/"
        },
        "id": "KjPlIOlMJYi-",
        "outputId": "1bbefe61-dde6-4ecf-8dff-c25e930b968b"
      },
      "execution_count": 17,
      "outputs": [
        {
          "output_type": "execute_result",
          "data": {
            "text/plain": [
              "array([[ 0.07116451, -0.36737824, -0.92734505],\n",
              "       [ 0.71702467,  0.66514082, -0.20847855],\n",
              "       [ 0.69340553, -0.65009301,  0.31075368]])"
            ]
          },
          "metadata": {},
          "execution_count": 17
        }
      ]
    },
    {
      "cell_type": "code",
      "source": [
        "V.T@V"
      ],
      "metadata": {
        "colab": {
          "base_uri": "https://localhost:8080/"
        },
        "id": "aOnrnNxNKJbE",
        "outputId": "e218d8a1-967e-4f9c-f4d2-6e98869d79b1"
      },
      "execution_count": 18,
      "outputs": [
        {
          "output_type": "execute_result",
          "data": {
            "text/plain": [
              "array([[ 1.00000000e+00,  2.63580532e-16, -8.46021341e-17],\n",
              "       [ 2.63580532e-16,  1.00000000e+00, -1.38296348e-16],\n",
              "       [-8.46021341e-17, -1.38296348e-16,  1.00000000e+00]])"
            ]
          },
          "metadata": {},
          "execution_count": 18
        }
      ]
    },
    {
      "cell_type": "code",
      "source": [
        "D = np.zeros_like(a, dtype=float)\n",
        "D[np.diag_indices(min(a.shape))] = s\n",
        "D"
      ],
      "metadata": {
        "colab": {
          "base_uri": "https://localhost:8080/"
        },
        "id": "IZsmpyK6JlWd",
        "outputId": "2b93a3dd-ee1a-49d6-93a0-32a9365d2ba0"
      },
      "execution_count": 19,
      "outputs": [
        {
          "output_type": "execute_result",
          "data": {
            "text/plain": [
              "array([[8.82486885, 0.        , 0.        ],\n",
              "       [0.        , 6.14060608, 0.        ],\n",
              "       [0.        , 0.        , 2.53271528],\n",
              "       [0.        , 0.        , 0.        ],\n",
              "       [0.        , 0.        , 0.        ]])"
            ]
          },
          "metadata": {},
          "execution_count": 19
        }
      ]
    },
    {
      "cell_type": "code",
      "source": [
        "U@D@V.T"
      ],
      "metadata": {
        "colab": {
          "base_uri": "https://localhost:8080/"
        },
        "id": "P8yv9E9KKV9b",
        "outputId": "119dabfe-bff4-4f74-92c3-3550b2e7d65e"
      },
      "execution_count": 24,
      "outputs": [
        {
          "output_type": "execute_result",
          "data": {
            "text/plain": [
              "array([[ 1.00000000e+00,  2.00000000e+00,  1.31018987e-15],\n",
              "       [ 1.93009612e-16, -2.66609409e-15,  5.00000000e+00],\n",
              "       [ 3.00000000e+00, -4.00000000e+00,  2.00000000e+00],\n",
              "       [ 1.00000000e+00,  6.00000000e+00,  5.00000000e+00],\n",
              "       [-5.49534701e-17,  1.00000000e+00, -3.02821608e-17]])"
            ]
          },
          "metadata": {},
          "execution_count": 24
        }
      ]
    },
    {
      "cell_type": "markdown",
      "metadata": {
        "id": "DQFiWwv6AY6F"
      },
      "source": [
        "##__2.__ Для матрицы из предыдущего задания найти:\n",
        "\n",
        "    а) евклидову норму;\n",
        "    \n",
        "    б) норму Фробениуса."
      ]
    },
    {
      "cell_type": "markdown",
      "source": [
        "а) $\\left \\| A \\right \\|_{E}=\\mu_{1} = 8.82486885 $"
      ],
      "metadata": {
        "id": "fetvT7a5U-HO"
      }
    },
    {
      "cell_type": "code",
      "source": [
        "np.linalg.norm(a,2)"
      ],
      "metadata": {
        "colab": {
          "base_uri": "https://localhost:8080/"
        },
        "id": "_3GVpaAJRbbZ",
        "outputId": "0c72c82d-d583-4bb1-e69d-aec276504ef4"
      },
      "execution_count": 34,
      "outputs": [
        {
          "output_type": "execute_result",
          "data": {
            "text/plain": [
              "8.824868854820444"
            ]
          },
          "metadata": {},
          "execution_count": 34
        }
      ]
    },
    {
      "cell_type": "markdown",
      "source": [
        "б) $\\left \\| A \\right \\|_{F}= \\sqrt{1+4+25+9+16+4+1+36+25+1} = \\sqrt{122} \\approx 11.0454$"
      ],
      "metadata": {
        "id": "20sWYKIZWhGc"
      }
    },
    {
      "cell_type": "code",
      "source": [
        "np.linalg.norm(a,'fro')"
      ],
      "metadata": {
        "colab": {
          "base_uri": "https://localhost:8080/"
        },
        "id": "BhEETIJQOLEe",
        "outputId": "3ed3d67a-a7be-4907-fe2a-21709e80041b"
      },
      "execution_count": 33,
      "outputs": [
        {
          "output_type": "stream",
          "name": "stdout",
          "text": [
            "||A||_F = 11.045361017187261\n"
          ]
        }
      ]
    }
  ]
}